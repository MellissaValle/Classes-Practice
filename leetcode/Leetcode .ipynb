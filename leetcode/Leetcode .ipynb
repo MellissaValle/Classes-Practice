{
 "cells": [
  {
   "cell_type": "code",
   "execution_count": 1,
   "id": "0e3c1fd8",
   "metadata": {},
   "outputs": [],
   "source": [
    "from typing import List"
   ]
  },
  {
   "cell_type": "code",
   "execution_count": null,
   "id": "d54b9252",
   "metadata": {},
   "outputs": [],
   "source": []
  },
  {
   "cell_type": "code",
   "execution_count": 2,
   "id": "181769f6",
   "metadata": {},
   "outputs": [
    {
     "ename": "SyntaxError",
     "evalue": "EOL while scanning string literal (2322720975.py, line 3)",
     "output_type": "error",
     "traceback": [
      "\u001b[0;36m  File \u001b[0;32m\"/var/folders/b1/ljblz4wx75xg5p6m2ky81dx80000gn/T/ipykernel_2229/2322720975.py\"\u001b[0;36m, line \u001b[0;32m3\u001b[0m\n\u001b[0;31m    \"\"\"\"\u001b[0m\n\u001b[0m        \n^\u001b[0m\n\u001b[0;31mSyntaxError\u001b[0m\u001b[0;31m:\u001b[0m EOL while scanning string literal\n"
     ]
    }
   ],
   "source": [
    "class Solution:\n",
    "    def networkDelayTime(self, times: List[List[int]], N: int, K: int) -> int:\n",
    "\n",
    "        g = collections.defaultdict(list)\n",
    "        for u, v, cost in times:\n",
    "            g[u].append((cost, v))\n",
    "\n",
    "        # cost,node\n",
    "        min_heap = [(0, K)]\n",
    "        visited = set()\n",
    "        distance = {i: float('inf') for i in range(1, N+1)}\n",
    "        distance[K] = 0\n",
    "\n",
    "        while min_heap:\n",
    "            cur_dist, u = heapq.heappop(min_heap)\n",
    "            if u in visited:\n",
    "                continue\n",
    "            visited.add(u)\n",
    "            if len(visited) == N:\n",
    "                return cur_dist\n",
    "\n",
    "            for direct_distance, v in g[u]:\n",
    "                if cur_dist + direct_distance < distance[v] and v not in visited:\n",
    "                    distance[v] = cur_dist + direct_distance\n",
    "                    heapq.heappush(min_heap, (cur_dist + direct_distance, v))\n",
    "        return -1"
   ]
  },
  {
   "cell_type": "code",
   "execution_count": null,
   "id": "030e69bf",
   "metadata": {},
   "outputs": [],
   "source": []
  },
  {
   "cell_type": "markdown",
   "id": "d769bc55",
   "metadata": {},
   "source": [
    "Given two strings s and t of lengths m and n respectively, return the minimum window substring of s such that every character in t (including duplicates) is included in the window. If there is no such substring, return the empty string \"\".\n",
    "\n",
    "- The testcases will be generated such that the answer is unique.\n",
    "\n",
    "- A substring is a contiguous sequence of characters within the string."
   ]
  },
  {
   "cell_type": "code",
   "execution_count": null,
   "id": "d3ce9e28",
   "metadata": {},
   "outputs": [],
   "source": [
    "class Solution:\n",
    "    def minWindow(self, s: str, t: str) -> str:\n",
    "        len1 = len(s)\n",
    "        len2 = len(t)\n",
    "\n",
    "        if(len1 < len2):\n",
    "            return \"\"\n",
    "\n",
    "        hashPat = {}\n",
    "        hashStr = {}\n",
    "\n",
    "        for i in range(0, len2):\n",
    "            if(hashPat.get(t[i]) is None):\n",
    "                hashPat[t[i]] = 0\n",
    "            hashPat[t[i]] += 1\n",
    "\n",
    "        count = 0\n",
    "        left = 0\n",
    "        startIndex = -1\n",
    "        minLen = float(\"inf\")\n",
    "\n",
    "        for right in range(0, len1):\n",
    "\n",
    "            if(hashStr.get(s[right]) is None):\n",
    "                hashStr[s[right]] = 0\n",
    "            hashStr[s[right]] += 1\n",
    "            if(hashPat.get(s[right]) is None):\n",
    "                hashPat[s[right]] = 0\n",
    "            if (\n",
    "\n",
    "                hashPat.get(s[right]) != 0 and\n",
    "                hashStr.get(s[right]) <= hashPat.get(s[right])\n",
    "            ):\n",
    "                count += 1  # keep incrementing the count if string hash is less then pattern hash\n",
    "            # count==len2 means a window is found that contains all character of pattern string\n",
    "            if (count == len2):\n",
    "\n",
    "                if(hashStr.get(s[left]) is None):\n",
    "                    hashStr[s[right]] = 0\n",
    "                if(hashPat.get(s[left]) is None):\n",
    "                    hashPat[s[right]] = 0\n",
    "                while (\n",
    "                    hashStr.get(s[left]) > hashPat.get(s[left]) or\n",
    "                    hashPat.get(s[left]) == 0\n",
    "                ):\n",
    "                    #minimizing the windows range from left side\n",
    "\n",
    "                    if (hashStr.get(s[left]) > hashPat.get(s[left])):\n",
    "                        hashStr[s[left]] -= 1\n",
    "                    left += 1  # incrementing the left pointer\n",
    "\n",
    "                windowLen = right - left + 1  # calculating the windows length\n",
    "                if (minLen > windowLen):\n",
    "                    minLen = windowLen\n",
    "                    startIndex = left\n",
    "\n",
    "        if (startIndex == -1):\n",
    "            return \"\"\n",
    "        return s[startIndex:startIndex+minLen]"
   ]
  },
  {
   "cell_type": "code",
   "execution_count": null,
   "id": "f76d5f26",
   "metadata": {},
   "outputs": [],
   "source": []
  },
  {
   "cell_type": "markdown",
   "id": "92c74960",
   "metadata": {},
   "source": [
    "There is a robot on an m x n grid. The robot is initially located at the top-left corner (i.e., grid[0][0]). The robot tries to move to the bottom-right corner (i.e., grid[m - 1][n - 1]). The robot can only move either down or right at any point in time.\n",
    "\n",
    "- Given the two integers m and n, return the number of possible unique paths that the robot can take to reach the bottom-right corner.\n",
    "\n",
    "- The test cases are generated so that the answer will be less than or equal to 2 * 109."
   ]
  },
  {
   "cell_type": "code",
   "execution_count": null,
   "id": "929f76cc",
   "metadata": {},
   "outputs": [],
   "source": [
    "class Solution:\n",
    "    def uniquePaths(self, m: int, n: int) -> int:\n",
    "        \n",
    "        dp = [[0 for x in range(m)] for y in range(n)]\n",
    "        for i in range(m):\n",
    "            dp[0][i] = 1\n",
    "        \n",
    "        for i in range(n):\n",
    "            dp[i][0] = 1\n",
    "        \n",
    "        for i in range(1, n):\n",
    "            for j in range(1, m):\n",
    "                dp[i][j] = dp[i-1][j] + dp[i][j-1]\n",
    "        \n",
    "        return(dp[-1][-1])"
   ]
  }
 ],
 "metadata": {
  "kernelspec": {
   "display_name": "Python 3 (ipykernel)",
   "language": "python",
   "name": "python3"
  },
  "language_info": {
   "codemirror_mode": {
    "name": "ipython",
    "version": 3
   },
   "file_extension": ".py",
   "mimetype": "text/x-python",
   "name": "python",
   "nbconvert_exporter": "python",
   "pygments_lexer": "ipython3",
   "version": "3.9.7"
  }
 },
 "nbformat": 4,
 "nbformat_minor": 5
}
