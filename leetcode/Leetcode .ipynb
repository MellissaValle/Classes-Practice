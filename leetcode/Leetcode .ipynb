{
 "cells": [
  {
   "cell_type": "code",
   "execution_count": 1,
   "id": "0e3c1fd8",
   "metadata": {},
   "outputs": [],
   "source": [
    "from typing import List"
   ]
  },
  {
   "cell_type": "code",
   "execution_count": null,
   "id": "d54b9252",
   "metadata": {},
   "outputs": [],
   "source": []
  },
  {
   "cell_type": "code",
   "execution_count": 2,
   "id": "181769f6",
   "metadata": {},
   "outputs": [],
   "source": [
    "class Solution:\n",
    "    def networkDelayTime(self, times: List[List[int]], N: int, K: int) -> int:\n",
    "\n",
    "        g = collections.defaultdict(list)\n",
    "        for u, v, cost in times:\n",
    "            g[u].append((cost, v))\n",
    "\n",
    "        # cost,node\n",
    "        min_heap = [(0, K)]\n",
    "        visited = set()\n",
    "        distance = {i: float('inf') for i in range(1, N+1)}\n",
    "        distance[K] = 0\n",
    "\n",
    "        while min_heap:\n",
    "            cur_dist, u = heapq.heappop(min_heap)\n",
    "            if u in visited:\n",
    "                continue\n",
    "            visited.add(u)\n",
    "            if len(visited) == N:\n",
    "                return cur_dist\n",
    "\n",
    "            for direct_distance, v in g[u]:\n",
    "                if cur_dist + direct_distance < distance[v] and v not in visited:\n",
    "                    distance[v] = cur_dist + direct_distance\n",
    "                    heapq.heappush(min_heap, (cur_dist + direct_distance, v))\n",
    "        return -1"
   ]
  },
  {
   "cell_type": "code",
   "execution_count": null,
   "id": "030e69bf",
   "metadata": {},
   "outputs": [],
   "source": []
  },
  {
   "cell_type": "markdown",
   "id": "d769bc55",
   "metadata": {},
   "source": [
    "Given two strings s and t of lengths m and n respectively, return the minimum window substring of s such that every character in t (including duplicates) is included in the window. If there is no such substring, return the empty string \"\".\n",
    "\n",
    "- The testcases will be generated such that the answer is unique.\n",
    "\n",
    "- A substring is a contiguous sequence of characters within the string."
   ]
  },
  {
   "cell_type": "code",
   "execution_count": 3,
   "id": "d3ce9e28",
   "metadata": {},
   "outputs": [],
   "source": [
    "class Solution:\n",
    "    def minWindow(self, s: str, t: str) -> str:\n",
    "        len1 = len(s)\n",
    "        len2 = len(t)\n",
    "\n",
    "        if(len1 < len2):\n",
    "            return \"\"\n",
    "\n",
    "        hashPat = {}\n",
    "        hashStr = {}\n",
    "\n",
    "        for i in range(0, len2):\n",
    "            if(hashPat.get(t[i]) is None):\n",
    "                hashPat[t[i]] = 0\n",
    "            hashPat[t[i]] += 1\n",
    "\n",
    "        count = 0\n",
    "        left = 0\n",
    "        startIndex = -1\n",
    "        minLen = float(\"inf\")\n",
    "\n",
    "        for right in range(0, len1):\n",
    "\n",
    "            if(hashStr.get(s[right]) is None):\n",
    "                hashStr[s[right]] = 0\n",
    "            hashStr[s[right]] += 1\n",
    "            if(hashPat.get(s[right]) is None):\n",
    "                hashPat[s[right]] = 0\n",
    "            if (\n",
    "\n",
    "                hashPat.get(s[right]) != 0 and\n",
    "                hashStr.get(s[right]) <= hashPat.get(s[right])\n",
    "            ):\n",
    "                count += 1  # keep incrementing the count if string hash is less then pattern hash\n",
    "            # count==len2 means a window is found that contains all character of pattern string\n",
    "            if (count == len2):\n",
    "\n",
    "                if(hashStr.get(s[left]) is None):\n",
    "                    hashStr[s[right]] = 0\n",
    "                if(hashPat.get(s[left]) is None):\n",
    "                    hashPat[s[right]] = 0\n",
    "                while (\n",
    "                    hashStr.get(s[left]) > hashPat.get(s[left]) or\n",
    "                    hashPat.get(s[left]) == 0\n",
    "                ):\n",
    "                    #minimizing the windows range from left side\n",
    "\n",
    "                    if (hashStr.get(s[left]) > hashPat.get(s[left])):\n",
    "                        hashStr[s[left]] -= 1\n",
    "                    left += 1  # incrementing the left pointer\n",
    "\n",
    "                windowLen = right - left + 1  # calculating the windows length\n",
    "                if (minLen > windowLen):\n",
    "                    minLen = windowLen\n",
    "                    startIndex = left\n",
    "\n",
    "        if (startIndex == -1):\n",
    "            return \"\"\n",
    "        return s[startIndex:startIndex+minLen]"
   ]
  },
  {
   "cell_type": "code",
   "execution_count": null,
   "id": "f76d5f26",
   "metadata": {},
   "outputs": [],
   "source": []
  },
  {
   "cell_type": "markdown",
   "id": "92c74960",
   "metadata": {},
   "source": [
    "There is a robot on an m x n grid. The robot is initially located at the top-left corner (i.e., grid[0][0]). The robot tries to move to the bottom-right corner (i.e., grid[m - 1][n - 1]). The robot can only move either down or right at any point in time.\n",
    "\n",
    "- Given the two integers m and n, return the number of possible unique paths that the robot can take to reach the bottom-right corner.\n",
    "\n",
    "- The test cases are generated so that the answer will be less than or equal to 2 * 109."
   ]
  },
  {
   "cell_type": "code",
   "execution_count": 4,
   "id": "929f76cc",
   "metadata": {},
   "outputs": [],
   "source": [
    "class Solution:\n",
    "    def uniquePaths(self, m: int, n: int) -> int:\n",
    "        \n",
    "        dp = [[0 for x in range(m)] for y in range(n)]\n",
    "        for i in range(m):\n",
    "            dp[0][i] = 1\n",
    "        \n",
    "        for i in range(n):\n",
    "            dp[i][0] = 1\n",
    "        \n",
    "        for i in range(1, n):\n",
    "            for j in range(1, m):\n",
    "                dp[i][j] = dp[i-1][j] + dp[i][j-1]\n",
    "        \n",
    "        return(dp[-1][-1])"
   ]
  },
  {
   "cell_type": "code",
   "execution_count": null,
   "id": "3fcc1d91",
   "metadata": {},
   "outputs": [],
   "source": []
  },
  {
   "cell_type": "markdown",
   "id": "e258879f",
   "metadata": {},
   "source": [
    "You are given an array prices where prices[i] is the price of a given stock on the ith day.\n",
    "\n",
    "- You want to maximize your profit by choosing a single day to buy one stock and choosing a different day in the future to sell that stock."
   ]
  },
  {
   "cell_type": "code",
   "execution_count": 5,
   "id": "09d6c90e",
   "metadata": {},
   "outputs": [],
   "source": [
    "class Solution:\n",
    "    def maxProfit(self, prices: List[int]) -> int:\n",
    "        buyPrice, profit = float(\"inf\"), 0\n",
    "\n",
    "        for i, price in enumerate(prices):\n",
    "            if(buyPrice > price):\n",
    "                buyPrice = price\n",
    "            else:\n",
    "                profit = max(profit, price-buyPrice)\n",
    "\n",
    "        return profit"
   ]
  },
  {
   "cell_type": "code",
   "execution_count": 6,
   "id": "c93019fc",
   "metadata": {},
   "outputs": [],
   "source": [
    "def maxProfit(prices):\n",
    "    buy, profit = float('inf'), 0\n",
    "    for p in prices:\n",
    "        buy, profit = min(buy, p), max(profit, p-buy)\n",
    "    return profit"
   ]
  },
  {
   "cell_type": "code",
   "execution_count": null,
   "id": "d9d141a1",
   "metadata": {},
   "outputs": [],
   "source": []
  },
  {
   "cell_type": "markdown",
   "id": "8336dd0a",
   "metadata": {},
   "source": []
  },
  {
   "cell_type": "code",
   "execution_count": 7,
   "id": "e4a95cce",
   "metadata": {},
   "outputs": [],
   "source": [
    "class Solution:\n",
    "    def coinChange(self, coins: List[int], amount: int) -> int:\n",
    "        if amount <= 0:\n",
    "            return 0\n",
    "        \n",
    "        if min(coins) > amount:\n",
    "            return -1\n",
    "\n",
    "        INT_MAX = 1<<32\n",
    "        dp = [INT_MAX] * (amount +1)\n",
    "        \n",
    "        dp[0] = 0\n",
    "        \n",
    "        for i in range(1, amount + 1):\n",
    "            for coin in coins:\n",
    "                if coin <= i:\n",
    "                    dp[i] = min((dp[i-coin] + 1), dp[i])\n",
    "                    \n",
    "        return dp[amount] if dp[amount] != INT_MAX else -1"
   ]
  },
  {
   "cell_type": "code",
   "execution_count": null,
   "id": "29616fbf",
   "metadata": {},
   "outputs": [],
   "source": []
  }
 ],
 "metadata": {
  "kernelspec": {
   "display_name": "Python 3 (ipykernel)",
   "language": "python",
   "name": "python3"
  },
  "language_info": {
   "codemirror_mode": {
    "name": "ipython",
    "version": 3
   },
   "file_extension": ".py",
   "mimetype": "text/x-python",
   "name": "python",
   "nbconvert_exporter": "python",
   "pygments_lexer": "ipython3",
   "version": "3.9.7"
  }
 },
 "nbformat": 4,
 "nbformat_minor": 5
}
