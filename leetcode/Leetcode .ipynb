{
 "cells": [
  {
   "cell_type": "code",
   "execution_count": 1,
   "id": "0e3c1fd8",
   "metadata": {},
   "outputs": [],
   "source": [
    "from typing import List"
   ]
  },
  {
   "cell_type": "code",
   "execution_count": null,
   "id": "d54b9252",
   "metadata": {},
   "outputs": [],
   "source": []
  },
  {
   "cell_type": "code",
   "execution_count": 2,
   "id": "181769f6",
   "metadata": {},
   "outputs": [],
   "source": [
    "class Solution:\n",
    "    def networkDelayTime(self, times: List[List[int]], N: int, K: int) -> int:\n",
    "\n",
    "        g = collections.defaultdict(list)\n",
    "        for u, v, cost in times:\n",
    "            g[u].append((cost, v))\n",
    "\n",
    "        # cost,node\n",
    "        min_heap = [(0, K)]\n",
    "        visited = set()\n",
    "        distance = {i: float('inf') for i in range(1, N+1)}\n",
    "        distance[K] = 0\n",
    "\n",
    "        while min_heap:\n",
    "            cur_dist, u = heapq.heappop(min_heap)\n",
    "            if u in visited:\n",
    "                continue\n",
    "            visited.add(u)\n",
    "            if len(visited) == N:\n",
    "                return cur_dist\n",
    "\n",
    "            for direct_distance, v in g[u]:\n",
    "                if cur_dist + direct_distance < distance[v] and v not in visited:\n",
    "                    distance[v] = cur_dist + direct_distance\n",
    "                    heapq.heappush(min_heap, (cur_dist + direct_distance, v))\n",
    "        return -1"
   ]
  },
  {
   "cell_type": "code",
   "execution_count": null,
   "id": "030e69bf",
   "metadata": {},
   "outputs": [],
   "source": []
  },
  {
   "cell_type": "markdown",
   "id": "d769bc55",
   "metadata": {},
   "source": [
    "Given two strings s and t of lengths m and n respectively, return the minimum window substring of s such that every character in t (including duplicates) is included in the window. If there is no such substring, return the empty string \"\".\n",
    "\n",
    "- The testcases will be generated such that the answer is unique.\n",
    "\n",
    "- A substring is a contiguous sequence of characters within the string."
   ]
  },
  {
   "cell_type": "code",
   "execution_count": 3,
   "id": "d3ce9e28",
   "metadata": {},
   "outputs": [],
   "source": [
    "class Solution:\n",
    "    def minWindow(self, s: str, t: str) -> str:\n",
    "        len1 = len(s)\n",
    "        len2 = len(t)\n",
    "\n",
    "        if(len1 < len2):\n",
    "            return \"\"\n",
    "\n",
    "        hashPat = {}\n",
    "        hashStr = {}\n",
    "\n",
    "        for i in range(0, len2):\n",
    "            if(hashPat.get(t[i]) is None):\n",
    "                hashPat[t[i]] = 0\n",
    "            hashPat[t[i]] += 1\n",
    "\n",
    "        count = 0\n",
    "        left = 0\n",
    "        startIndex = -1\n",
    "        minLen = float(\"inf\")\n",
    "\n",
    "        for right in range(0, len1):\n",
    "\n",
    "            if(hashStr.get(s[right]) is None):\n",
    "                hashStr[s[right]] = 0\n",
    "            hashStr[s[right]] += 1\n",
    "            if(hashPat.get(s[right]) is None):\n",
    "                hashPat[s[right]] = 0\n",
    "            if (\n",
    "\n",
    "                hashPat.get(s[right]) != 0 and\n",
    "                hashStr.get(s[right]) <= hashPat.get(s[right])\n",
    "            ):\n",
    "                count += 1  # keep incrementing the count if string hash is less then pattern hash\n",
    "            # count==len2 means a window is found that contains all character of pattern string\n",
    "            if (count == len2):\n",
    "\n",
    "                if(hashStr.get(s[left]) is None):\n",
    "                    hashStr[s[right]] = 0\n",
    "                if(hashPat.get(s[left]) is None):\n",
    "                    hashPat[s[right]] = 0\n",
    "                while (\n",
    "                    hashStr.get(s[left]) > hashPat.get(s[left]) or\n",
    "                    hashPat.get(s[left]) == 0\n",
    "                ):\n",
    "                    #minimizing the windows range from left side\n",
    "\n",
    "                    if (hashStr.get(s[left]) > hashPat.get(s[left])):\n",
    "                        hashStr[s[left]] -= 1\n",
    "                    left += 1  # incrementing the left pointer\n",
    "\n",
    "                windowLen = right - left + 1  # calculating the windows length\n",
    "                if (minLen > windowLen):\n",
    "                    minLen = windowLen\n",
    "                    startIndex = left\n",
    "\n",
    "        if (startIndex == -1):\n",
    "            return \"\"\n",
    "        return s[startIndex:startIndex+minLen]"
   ]
  },
  {
   "cell_type": "code",
   "execution_count": null,
   "id": "f76d5f26",
   "metadata": {},
   "outputs": [],
   "source": []
  },
  {
   "cell_type": "markdown",
   "id": "92c74960",
   "metadata": {},
   "source": [
    "There is a robot on an m x n grid. The robot is initially located at the top-left corner (i.e., grid[0][0]). The robot tries to move to the bottom-right corner (i.e., grid[m - 1][n - 1]). The robot can only move either down or right at any point in time.\n",
    "\n",
    "- Given the two integers m and n, return the number of possible unique paths that the robot can take to reach the bottom-right corner.\n",
    "\n",
    "- The test cases are generated so that the answer will be less than or equal to 2 * 109."
   ]
  },
  {
   "cell_type": "code",
   "execution_count": 4,
   "id": "929f76cc",
   "metadata": {},
   "outputs": [],
   "source": [
    "class Solution:\n",
    "    def uniquePaths(self, m: int, n: int) -> int:\n",
    "        \n",
    "        dp = [[0 for x in range(m)] for y in range(n)]\n",
    "        for i in range(m):\n",
    "            dp[0][i] = 1\n",
    "        \n",
    "        for i in range(n):\n",
    "            dp[i][0] = 1\n",
    "        \n",
    "        for i in range(1, n):\n",
    "            for j in range(1, m):\n",
    "                dp[i][j] = dp[i-1][j] + dp[i][j-1]\n",
    "        \n",
    "        return(dp[-1][-1])"
   ]
  },
  {
   "cell_type": "code",
   "execution_count": null,
   "id": "3fcc1d91",
   "metadata": {},
   "outputs": [],
   "source": []
  },
  {
   "cell_type": "markdown",
   "id": "e258879f",
   "metadata": {},
   "source": [
    "You are given an array prices where prices[i] is the price of a given stock on the ith day.\n",
    "\n",
    "- You want to maximize your profit by choosing a single day to buy one stock and choosing a different day in the future to sell that stock."
   ]
  },
  {
   "cell_type": "code",
   "execution_count": 5,
   "id": "09d6c90e",
   "metadata": {},
   "outputs": [],
   "source": [
    "class Solution:\n",
    "    def maxProfit(self, prices: List[int]) -> int:\n",
    "        buyPrice, profit = float(\"inf\"), 0\n",
    "\n",
    "        for i, price in enumerate(prices):\n",
    "            if(buyPrice > price):\n",
    "                buyPrice = price\n",
    "            else:\n",
    "                profit = max(profit, price-buyPrice)\n",
    "\n",
    "        return profit"
   ]
  },
  {
   "cell_type": "code",
   "execution_count": 6,
   "id": "c93019fc",
   "metadata": {},
   "outputs": [],
   "source": [
    "def maxProfit(prices):\n",
    "    buy, profit = float('inf'), 0\n",
    "    for p in prices:\n",
    "        buy, profit = min(buy, p), max(profit, p-buy)\n",
    "    return profit"
   ]
  },
  {
   "cell_type": "code",
   "execution_count": null,
   "id": "d9d141a1",
   "metadata": {},
   "outputs": [],
   "source": []
  },
  {
   "cell_type": "markdown",
   "id": "8336dd0a",
   "metadata": {},
   "source": [
    "You are given an integer array coins representing coins of different denominations and an integer amount representing a total amount of money.\n",
    "\n",
    "- Return the fewest number of coins that you need to make up that amount. If that amount of money cannot be made up by any combination of the coins, return -1."
   ]
  },
  {
   "cell_type": "code",
   "execution_count": 7,
   "id": "e4a95cce",
   "metadata": {},
   "outputs": [],
   "source": [
    "class Solution:\n",
    "    def coinChange(self, coins: List[int], amount: int) -> int:\n",
    "        if amount <= 0:\n",
    "            return 0\n",
    "        \n",
    "        if min(coins) > amount:\n",
    "            return -1\n",
    "\n",
    "        INT_MAX = 1<<32\n",
    "        dp = [INT_MAX] * (amount +1)\n",
    "        \n",
    "        dp[0] = 0\n",
    "        \n",
    "        for i in range(1, amount + 1):\n",
    "            for coin in coins:\n",
    "                if coin <= i:\n",
    "                    dp[i] = min((dp[i-coin] + 1), dp[i])\n",
    "                    \n",
    "        return dp[amount] if dp[amount] != INT_MAX else -1"
   ]
  },
  {
   "cell_type": "code",
   "execution_count": null,
   "id": "29616fbf",
   "metadata": {},
   "outputs": [],
   "source": []
  },
  {
   "cell_type": "markdown",
   "id": "ee06339a",
   "metadata": {},
   "source": [
    "Given the head of a linked list, remove the nth node from the end of the list and return its head."
   ]
  },
  {
   "cell_type": "code",
   "execution_count": 8,
   "id": "ee1e42d2",
   "metadata": {},
   "outputs": [],
   "source": [
    "\"\"\"\n",
    "1 -> 2-> 3-> [4]->5\n",
    "1 -> 2-> 3------->5\n",
    "\n",
    "\"\"\"\n",
    "\n",
    "class ListNode:\n",
    "    def __init__(self, x):\n",
    "        self.val = x\n",
    "        self.next = None\n",
    "\n",
    "class Solution:\n",
    "    def removeNthFromEnd(self, head: ListNode, n: int) -> ListNode:\n",
    "        ans = ListNode(0)\n",
    "        ans.next = head\n",
    "\n",
    "        first, second = ans, ans\n",
    "\n",
    "        for i in range(1,n+2):\n",
    "            first = first.next\n",
    "        \n",
    "        while (first is not None):\n",
    "            first = first.next\n",
    "            second = second.next\n",
    "\n",
    "        second.next = second.next.next\n",
    "\n",
    "        return ans.next"
   ]
  },
  {
   "cell_type": "code",
   "execution_count": null,
   "id": "bc265fbc",
   "metadata": {},
   "outputs": [],
   "source": []
  },
  {
   "cell_type": "markdown",
   "id": "bba0b15c",
   "metadata": {},
   "source": [
    "You are a professional robber planning to rob houses along a street. Each house has a certain amount of money stashed, the only constraint stopping you from robbing each of them is that adjacent houses have security systems connected and it will automatically contact the police if two adjacent houses were broken into on the same night.\n",
    "\n",
    "- Given an integer array nums representing the amount of money of each house, return the maximum amount of money you can rob tonight without alerting the police."
   ]
  },
  {
   "cell_type": "code",
   "execution_count": 9,
   "id": "5f816d83",
   "metadata": {},
   "outputs": [],
   "source": [
    "\"\"\"\n",
    "case1\n",
    "Input: nums = [1,2,3,1]\n",
    "Output: 4\n",
    "Explanation: Rob house 1 (money = 1) and then rob house 3 (money = 3).\n",
    "Total amount you can rob = 1 + 3 = 4.\n",
    "\n",
    "case2\n",
    "Input: nums = [2,7,9,3,1]\n",
    "Output: 12\n",
    "Explanation: Rob house 1 (money = 2), rob house 3 (money = 9) and rob house 5 (money = 1).\n",
    "Total amount you can rob = 2 + 9 + 1 = 12.\n",
    "\n",
    "\"\"\"\n",
    "class Solution:\n",
    "    \n",
    "    def rob(self, nums: List[int]) -> int:\n",
    "        n = len(nums)\n",
    "        if(n==0):\n",
    "            return 0\n",
    "        \n",
    "        dp = [0] * n\n",
    "        dp[0] = nums[0]\n",
    "\n",
    "        for i in range(1,n):\n",
    "            if(i==1):\n",
    "                dp[i] = max(nums[0],nums[1])\n",
    "            else:\n",
    "                dp[i] = max(dp[i-1], dp[i-2]+nums[i])\n",
    "            \n",
    "        return dp[-1]\n",
    "\n"
   ]
  },
  {
   "cell_type": "code",
   "execution_count": 10,
   "id": "e1dc5e41",
   "metadata": {},
   "outputs": [],
   "source": [
    "#Another approach\n",
    "\n",
    "class Solution:\n",
    "    def rob(self, nums: List[int]) -> int:\n",
    "        #Constant space use two variables and compute the max respectively\n",
    "        prev = curr = 0\n",
    "        for num in nums:\n",
    "            temp = prev # This represents the nums[i-2]th value\n",
    "            prev = curr # This represents the nums[i-1]th value\n",
    "            curr = max(num + temp, prev) # Here we just plug into the formula\n",
    "        return curr"
   ]
  },
  {
   "cell_type": "markdown",
   "id": "e09ad319",
   "metadata": {},
   "source": [
    "The only key idea we have to understand is that we want to store previous values (very much similar to if we were swapping two variables)\n"
   ]
  },
  {
   "cell_type": "code",
   "execution_count": null,
   "id": "e13ea41b",
   "metadata": {},
   "outputs": [],
   "source": []
  },
  {
   "cell_type": "markdown",
   "id": "fe1e5d97",
   "metadata": {},
   "source": [
    "Given a binary tree, find the lowest common ancestor (LCA) of two given nodes in the tree.\n",
    "\n",
    "- According to the definition of LCA on Wikipedia: “The lowest common ancestor is defined between two nodes p and q as the lowest node in T that has both p and q as descendants (where we allow a node to be a descendant of itself).”\n",
    "\n"
   ]
  },
  {
   "cell_type": "code",
   "execution_count": 11,
   "id": "b9e7da9d",
   "metadata": {},
   "outputs": [],
   "source": [
    "class TreeNode:\n",
    "    def __init__(self, x):\n",
    "        self.val = x\n",
    "        self.left = None\n",
    "        self.right = None\n",
    "\n",
    "class Solution:\n",
    "    def lowestCommonAncestor(self, root: 'TreeNode', p: 'TreeNode', q: 'TreeNode') -> 'TreeNode':\n",
    "        if(root is None):\n",
    "            return None\n",
    "        if(root.val==p.val or root.val==q.val):\n",
    "            return root\n",
    "        \n",
    "        left = self.lowestCommonAncestor(root.left,p,q)\n",
    "        right = self.lowestCommonAncestor(root.right,p,q)\n",
    "\n",
    "        if(left is None and right is None):\n",
    "            return None\n",
    "        if(left is not None and right is not None):\n",
    "            return root\n",
    "        if(left is None):\n",
    "            return right\n",
    "        return left"
   ]
  },
  {
   "cell_type": "code",
   "execution_count": null,
   "id": "fb29364d",
   "metadata": {},
   "outputs": [],
   "source": []
  },
  {
   "cell_type": "markdown",
   "id": "f9c775d9",
   "metadata": {},
   "source": [
    "Given n non-negative integers representing an elevation map where the width of each bar is 1, compute how much water it can trap after raining."
   ]
  },
  {
   "cell_type": "code",
   "execution_count": 12,
   "id": "82681c62",
   "metadata": {},
   "outputs": [],
   "source": [
    "class Solution:\n",
    "    def trap(self, height: List[int]) -> int:\n",
    "        n = len(height)\n",
    "        if(n == 0):\n",
    "            return 0\n",
    "\n",
    "        left = [0]*n\n",
    "        right = [0] * n\n",
    "\n",
    "        ans = 0\n",
    "\n",
    "        left[0] = height[0]\n",
    "\n",
    "        for i in range(1, n):\n",
    "            left[i] = max(left[i-1], height[i])\n",
    "\n",
    "        right[n-1] = height[n-1]\n",
    "\n",
    "        for i in range(n-2, -1, -1):\n",
    "            right[i] = max(right[i+1], height[i])\n",
    "\n",
    "        for i in range(0, n):\n",
    "            ans += min(left[i], right[i])-height[i]\n",
    "\n",
    "        return ans"
   ]
  },
  {
   "cell_type": "markdown",
   "id": "458c4f8c",
   "metadata": {},
   "source": [
    "- Input: height = [0,1,0,2,1,0,1,3,2,1,2,1]\n",
    "- Output: 6\n",
    "- Explanation: The above elevation map (black section) is represented by array [0,1,0,2,1,0,1,3,2,1,2,1]. In this case, 6 units of rain water (blue section) are being trapped."
   ]
  },
  {
   "cell_type": "code",
   "execution_count": null,
   "id": "34cb2e94",
   "metadata": {},
   "outputs": [],
   "source": []
  },
  {
   "cell_type": "code",
   "execution_count": 13,
   "id": "e66d34c9",
   "metadata": {},
   "outputs": [],
   "source": [
    "\"\"\"\n",
    "\n",
    "Given i < j, if left_max_i <= right_max_j: vol_i = left_max_i - bar_i, otherwise, \n",
    "vol_j = right_max_j - bar_j\n",
    "because, if left_max_i <= right_max_j: left_max_i <= right_max_j <= right_max_j-1 <= \n",
    "... <= right_max_i,\n",
    "then min(left_max_i, right_max_i) is always left_max_i\n",
    "\n",
    "\"\"\"\n",
    "\n",
    "def trap(self, bars):\n",
    "    if not bars or len(bars) < 3:\n",
    "        return 0\n",
    "    volume = 0\n",
    "    left, right = 0, len(bars) - 1\n",
    "    l_max, r_max = bars[left], bars[right]\n",
    "    while left < right:\n",
    "        l_max, r_max = max(bars[left], l_max), max(bars[right], r_max)\n",
    "        if l_max <= r_max:\n",
    "            volume += l_max - bars[left]\n",
    "            left += 1\n",
    "        else:\n",
    "            volume += r_max - bars[right]\n",
    "            right -= 1\n",
    "    return volume"
   ]
  },
  {
   "cell_type": "code",
   "execution_count": null,
   "id": "4c5495e8",
   "metadata": {},
   "outputs": [],
   "source": []
  },
  {
   "cell_type": "code",
   "execution_count": null,
   "id": "2d1672d0",
   "metadata": {},
   "outputs": [],
   "source": []
  },
  {
   "cell_type": "markdown",
   "id": "ee095d24",
   "metadata": {},
   "source": [
    "majority element\n",
    "\n",
    "Given an array nums of size n, return the majority element.\n",
    "\n",
    "- The majority element is the element that appears more than ⌊n / 2⌋ times. You may assume that the majority element always exists in the array.\n",
    "\n"
   ]
  },
  {
   "cell_type": "code",
   "execution_count": 14,
   "id": "97c6e853",
   "metadata": {},
   "outputs": [],
   "source": [
    "\"\"\"\n",
    "Example 1:\n",
    "\n",
    "Input: nums = [3,2,3]\n",
    "Output: 3\n",
    "Example 2:\n",
    "\n",
    "Input: nums = [2,2,1,1,1,2,2]\n",
    "Output: 2\n",
    "\"\"\"\n",
    "\n",
    "class Solution:\n",
    "    def majorityElement(self, nums: List[int]) -> int:\n",
    "        m = {}\n",
    "        for num in nums:\n",
    "            m[num] = m.get(num,0)+1\n",
    "        for num in nums:\n",
    "            if(m[num]>len(nums)//2):\n",
    "                return num\n",
    "        "
   ]
  },
  {
   "cell_type": "code",
   "execution_count": null,
   "id": "606d1a03",
   "metadata": {},
   "outputs": [],
   "source": []
  },
  {
   "cell_type": "markdown",
   "id": "5b82aab9",
   "metadata": {},
   "source": [
    "- Hard\n",
    "\n",
    "A path in a binary tree is a sequence of nodes where each pair of adjacent nodes in the sequence has an edge connecting them. A node can only appear in the sequence at most once. Note that the path does not need to pass through the root.\n",
    "\n",
    "The path sum of a path is the sum of the node's values in the path.\n",
    "\n",
    "Given the root of a binary tree, return the maximum path sum of any non-empty path."
   ]
  },
  {
   "cell_type": "code",
   "execution_count": 15,
   "id": "dbd326ff",
   "metadata": {},
   "outputs": [],
   "source": [
    "\"\"\"\n",
    "    1\n",
    "2      3\n",
    "\n",
    "Input: root = [1,2,3]\n",
    "Output: 6\n",
    "Explanation: The optimal path is 2 -> 1 -> 3 with a path sum of 2 + 1 + 3 = 6.\n",
    "\"\"\"\n",
    "# Definition for a binary tree node.\n",
    "class TreeNode:\n",
    "    def __init__(self, val=0, left=None, right=None):\n",
    "        self.val = val\n",
    "        self.left = left\n",
    "        self.right = right\n",
    "class Solution:\n",
    "    ans = -float(\"inf\")\n",
    "    def solution(self,node):\n",
    "        if(node is None):\n",
    "            return 0\n",
    "        left = self.solution(node.left)\n",
    "        right = self.solution(node.right)\n",
    "\n",
    "        mxSide = max(node.val,max(left,right)+node.val)\n",
    "        mxTop = max(mxSide,left+right+node.val)\n",
    "        self.ans = max(self.ans,mxTop)\n",
    "        return mxSide\n",
    "\n",
    "    def maxPathSum(self, root: TreeNode) -> int:\n",
    "        self.solution(root)\n",
    "        return self.ans"
   ]
  },
  {
   "cell_type": "code",
   "execution_count": null,
   "id": "f8434f2c",
   "metadata": {},
   "outputs": [],
   "source": []
  },
  {
   "cell_type": "markdown",
   "id": "ba8bafc7",
   "metadata": {},
   "source": [
    "## 141. Easy\n",
    "Given head, the head of a linked list, determine if the linked list has a cycle in it.\n",
    "\n",
    "There is a cycle in a linked list if there is some node in the list that can be reached again by continuously following the next pointer. Internally, pos is used to denote the index of the node that tail's next pointer is connected to. Note that pos is not passed as a parameter.\n",
    "\n",
    "Return true if there is a cycle in the linked list. Otherwise, return false."
   ]
  },
  {
   "cell_type": "code",
   "execution_count": 16,
   "id": "b3c7e522",
   "metadata": {},
   "outputs": [],
   "source": [
    "# Definition for singly-linked list.\n",
    "class ListNode:\n",
    "    def __init__(self, x):\n",
    "        self.val = x\n",
    "        self.next = None"
   ]
  },
  {
   "cell_type": "code",
   "execution_count": 17,
   "id": "2a7670c4",
   "metadata": {},
   "outputs": [],
   "source": [
    "\"\"\"\n",
    "Input: head = [3,2,0,-4], pos = 1\n",
    "Output: true\n",
    "Explanation: There is a cycle in the linked list,\n",
    "where the tail connects to the 1st node (0-indexed).\n",
    "\"\"\"\n",
    "class Solution:\n",
    "    def hasCycle(self, head: ListNode) -> bool:\n",
    "        hare = turtle = head\n",
    "\n",
    "        while turtle and hare and hare.next:\n",
    "            hare = hare.next.next\n",
    "            turtle = turtle.next\n",
    "            if(turtle == hare):return True\n",
    "        return False\n",
    "    \n",
    "# Complexity: time complexity is O(n), space complexity is O(1)."
   ]
  }
 ],
 "metadata": {
  "kernelspec": {
   "display_name": "Python 3 (ipykernel)",
   "language": "python",
   "name": "python3"
  },
  "language_info": {
   "codemirror_mode": {
    "name": "ipython",
    "version": 3
   },
   "file_extension": ".py",
   "mimetype": "text/x-python",
   "name": "python",
   "nbconvert_exporter": "python",
   "pygments_lexer": "ipython3",
   "version": "3.9.7"
  }
 },
 "nbformat": 4,
 "nbformat_minor": 5
}
