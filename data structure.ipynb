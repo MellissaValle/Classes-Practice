{
 "cells": [
  {
   "cell_type": "markdown",
   "id": "73b354ae",
   "metadata": {},
   "source": [
    "### Inserting into Single Linked List"
   ]
  },
  {
   "cell_type": "code",
   "execution_count": 1,
   "id": "bf2bf27d",
   "metadata": {},
   "outputs": [
    {
     "name": "stdout",
     "output_type": "stream",
     "text": [
      "Mon\n",
      "Tue\n",
      "Wed\n"
     ]
    }
   ],
   "source": [
    "class Node:\n",
    "   def __init__(self, dataval=None):\n",
    "      self.dataval = dataval\n",
    "      self.nextval = None\n",
    "\n",
    "class Sll:\n",
    "   def __init__(self):\n",
    "      self.headval = None\n",
    "\n",
    "   def listprint(self):\n",
    "      printval = self.headval\n",
    "      while printval is not None:\n",
    "         print (printval.dataval)\n",
    "         printval = printval.nextval\n",
    "\n",
    "list = Sll()\n",
    "list.headval = Node(\"Mon\")\n",
    "e2 = Node(\"Tue\")\n",
    "e3 = Node(\"Wed\")\n",
    "\n",
    "# Link first Node to second node\n",
    "list.headval.nextval = e2\n",
    "\n",
    "# Link second Node to third node\n",
    "e2.nextval = e3\n",
    "\n",
    "list.listprint()"
   ]
  },
  {
   "cell_type": "code",
   "execution_count": 2,
   "id": "2d977bb0",
   "metadata": {},
   "outputs": [],
   "source": [
    "#~~~~~~~~~~"
   ]
  },
  {
   "cell_type": "markdown",
   "id": "a82f38cf",
   "metadata": {},
   "source": [
    "## Inserting into Doubly Linked List"
   ]
  },
  {
   "cell_type": "code",
   "execution_count": 3,
   "id": "2b227e56",
   "metadata": {},
   "outputs": [
    {
     "name": "stdout",
     "output_type": "stream",
     "text": [
      "2->3->8->88->None\n",
      "88<- 8<- 3<- 2<- Head \n"
     ]
    }
   ],
   "source": [
    "class Node:\n",
    "    def __init__(self, data):\n",
    "        self.data = data\n",
    "        self.next = None\n",
    "        self.prev = None\n",
    "#Head\n",
    "class Dll:\n",
    "    def __init__(self):\n",
    "        self.head = None\n",
    "\n",
    "a = Node(2)\n",
    "b = Node(3)\n",
    "c = Node(8)\n",
    "d = Node(88)\n",
    "dll = Dll()\n",
    "\n",
    "dll.head = a\n",
    "a.next = b\n",
    "b.prev = a\n",
    "\n",
    "b.next = c\n",
    "c.prev = b\n",
    "\n",
    "c.next = d\n",
    "d.prev = c \n",
    "tmp = dll.head\n",
    "\n",
    "while tmp is not None:\n",
    "    print(tmp.data, end= \"->\")\n",
    "    if tmp.next is  None:\n",
    "        print(\"None\")\n",
    "    tmp = tmp.next\n",
    "    \n",
    "    \n",
    "tmpLast = d\n",
    "while tmpLast is not None:\n",
    "    print(tmpLast.data, end=\"<- \")\n",
    "    if tmpLast.prev  is  None:\n",
    "        print(\"Head \")\n",
    "    tmpLast = tmpLast.prev"
   ]
  },
  {
   "cell_type": "code",
   "execution_count": null,
   "id": "678bbb11",
   "metadata": {},
   "outputs": [],
   "source": []
  },
  {
   "cell_type": "markdown",
   "id": "eb0ed327",
   "metadata": {},
   "source": [
    "### Adding element at the beginning of the linked list"
   ]
  },
  {
   "cell_type": "code",
   "execution_count": 4,
   "id": "eb6d84e1",
   "metadata": {},
   "outputs": [],
   "source": [
    "def add_elemt_last(head, newElem):\n",
    "    tmp = head\n",
    "    while tmp.next is not None:\n",
    "        tmp = tmp.next\n",
    "    e = Node(newElem)\n",
    "    tmp.next = e\n",
    "    \n",
    "    \n",
    "def add_elemt_beg(sll, newElem):\n",
    "    n = Node(newElem)\n",
    "    n.next = sll.head\n",
    "    sll.head = n\n",
    "\n",
    "def add_elemt_atloc(sll, newElem, loc):\n",
    "    tmp = sll.head\n",
    "    for i in range(loc - 1):\n",
    "        if tmp is not None:\n",
    "            tmp = tmp.next\n",
    "        else:\n",
    "            print(\"Location is out\")\n",
    "            break\n",
    "    n = Node(newElem)\n",
    "    nxt = tmp.next \n",
    "    tmp.next = n \n",
    "    n.next = nxt \n",
    "    \n",
    "    \n",
    "def delete_elem(sll, elem):\n",
    "    tmp = sll.head\n",
    "    if tmp.data == elem:\n",
    "        sll.head = tmp.next\n",
    "        tmp = None\n",
    "    else:\n",
    "        while tmp is not None:\n",
    "            if tmp.data == elem:\n",
    "                break\n",
    "            bef = tmp\n",
    "            tmp = tmp.next \n",
    "        bef.next =  tmp.next\n",
    "\n",
    "        \n",
    "def printList(head):\n",
    "    tmp = head\n",
    "    while tmp is not None:\n",
    "        print(tmp.data, end=\"->\")\n",
    "        if tmp.next is None:\n",
    "            print(tmp.data, end=\" \")"
   ]
  },
  {
   "cell_type": "code",
   "execution_count": null,
   "id": "ebd4eb26",
   "metadata": {},
   "outputs": [],
   "source": []
  },
  {
   "cell_type": "code",
   "execution_count": null,
   "id": "ff365d76",
   "metadata": {},
   "outputs": [],
   "source": []
  },
  {
   "cell_type": "code",
   "execution_count": 6,
   "id": "163664b5",
   "metadata": {},
   "outputs": [],
   "source": [
    "def push_front(self, newElement):\n",
    "  \n",
    "  #1 & 2. allocate a new node\n",
    "  #       and assign data element\n",
    "  newNode = Node(newElement)\n",
    "  \n",
    "  #3. make next node of new node as head\n",
    "  newNode.next = self.head\n",
    "  \n",
    "  #4. make new node as head \n",
    "  self.head = newNode "
   ]
  },
  {
   "cell_type": "code",
   "execution_count": 7,
   "id": "1ee60f45",
   "metadata": {},
   "outputs": [
    {
     "name": "stdout",
     "output_type": "stream",
     "text": [
      "The list contains: 30->20->10->None\n",
      "\n"
     ]
    }
   ],
   "source": [
    "# node structure\n",
    "class Node:\n",
    "  def __init__(self, data):\n",
    "    self.data = data\n",
    "    self.next = None\n",
    "\n",
    "#class Linked List\n",
    "class LinkedList:\n",
    "  def __init__(self):\n",
    "    self.head = None\n",
    "\n",
    "  #Add new element at the start of the list\n",
    "  def push_front(self, newElement):\n",
    "    newNode = Node(newElement)\n",
    "    newNode.next = self.head \n",
    "    self.head = newNode   \n",
    "\n",
    "  #display the content of the list\n",
    "  def PrintList(self):\n",
    "    temp = self.head\n",
    "    if(temp != None):\n",
    "      print(\"The list contains:\", end=\" \")\n",
    "      while (temp != None):\n",
    "        print(temp.data, end=\"->\")\n",
    "        temp = temp.next\n",
    "        if temp is None:\n",
    "            print('None')\n",
    "      print()\n",
    "    else:\n",
    "      print(\"The list is empty.\")\n",
    "\n",
    "# test the code                  \n",
    "MyList = LinkedList()\n",
    "\n",
    "#Add three elements at the start of the list.\n",
    "MyList.push_front(10)\n",
    "MyList.push_front(20)\n",
    "MyList.push_front(30)\n",
    "MyList.PrintList()"
   ]
  },
  {
   "cell_type": "code",
   "execution_count": null,
   "id": "29b47c26",
   "metadata": {},
   "outputs": [],
   "source": []
  },
  {
   "cell_type": "code",
   "execution_count": null,
   "id": "b8de05bb",
   "metadata": {},
   "outputs": [],
   "source": []
  },
  {
   "cell_type": "markdown",
   "id": "458677cb",
   "metadata": {},
   "source": [
    "## BST"
   ]
  },
  {
   "cell_type": "code",
   "execution_count": 8,
   "id": "546b6211",
   "metadata": {},
   "outputs": [],
   "source": [
    "#node\n",
    "\n",
    "class Node:\n",
    "    def __init__(self, data):\n",
    "        self.left = None\n",
    "        self.right = None\n",
    "        self.data = data\n",
    "    \n",
    "root = Node(5)\n",
    "a = Node(3)\n",
    "b = Node(7)\n",
    "c = Node(2)\n",
    "d = Node(4)\n",
    "e = Node(6)\n",
    "f = Node(8)\n",
    "\n",
    "root.left = a\n",
    "root.right = b\n",
    "a.left = c\n",
    "a.right = d\n",
    "\n",
    "b.left = e\n",
    "b.right = f"
   ]
  },
  {
   "cell_type": "markdown",
   "id": "2b941c23",
   "metadata": {},
   "source": [
    "\"\"\"\n",
    "             [5]\n",
    "           /    \\\n",
    "          [3]    [7]\n",
    "         /  \\   /  \\\n",
    "       [2] [4] [6] [8]\n",
    "\n",
    "\n",
    "\"\"\""
   ]
  },
  {
   "cell_type": "code",
   "execution_count": 9,
   "id": "7f45e3d2",
   "metadata": {},
   "outputs": [
    {
     "name": "stdout",
     "output_type": "stream",
     "text": [
      "2 3 4 5 6 7 8 "
     ]
    }
   ],
   "source": [
    "def inorder(root): # left , root, right\n",
    "    if root is None:\n",
    "        return\n",
    "    inorder(root.left)\n",
    "    print(root.data, end= \" \")# 2345\n",
    "    inorder(root.right)\n",
    "    \n",
    "inorder(root)\n"
   ]
  },
  {
   "cell_type": "code",
   "execution_count": 10,
   "id": "308c1733",
   "metadata": {},
   "outputs": [
    {
     "name": "stdout",
     "output_type": "stream",
     "text": [
      "5 3 2 4 7 6 8 "
     ]
    }
   ],
   "source": [
    "def preorder(root): # root, left, right\n",
    "    if root is None:\n",
    "        return\n",
    "    print(root.data, end = \" \")\n",
    "    preorder(root.left)\n",
    "    preorder(root.right)\n",
    "    \n",
    "preorder(root)\n",
    "    "
   ]
  },
  {
   "cell_type": "code",
   "execution_count": 11,
   "id": "405800b9",
   "metadata": {},
   "outputs": [
    {
     "name": "stdout",
     "output_type": "stream",
     "text": [
      "2 4 3 6 8 7 5 "
     ]
    }
   ],
   "source": [
    "def postorder(root): # left, right, root\n",
    "    if root is None:\n",
    "        return\n",
    "    postorder(root.left)\n",
    "    postorder(root.right)\n",
    "    print(root.data, end =\" \")\n",
    "postorder(root)\n",
    "        "
   ]
  },
  {
   "cell_type": "code",
   "execution_count": null,
   "id": "638e9672",
   "metadata": {},
   "outputs": [],
   "source": []
  },
  {
   "cell_type": "markdown",
   "id": "761dfaf1",
   "metadata": {},
   "source": [
    "### Insert an element in BST"
   ]
  },
  {
   "cell_type": "code",
   "execution_count": 12,
   "id": "c8eca922",
   "metadata": {},
   "outputs": [],
   "source": [
    "def insert(root,data):\n",
    "    if root is None:\n",
    "        return Node(data)\n",
    "    if data < root.data:\n",
    "        root.left = insert(root.left, data)\n",
    "    else:\n",
    "        root.right = insert(root.right,data)\n",
    "    return root"
   ]
  },
  {
   "cell_type": "code",
   "execution_count": null,
   "id": "daed658c",
   "metadata": {},
   "outputs": [],
   "source": []
  },
  {
   "cell_type": "markdown",
   "id": "c56cc5c8",
   "metadata": {},
   "source": [
    "## Stack and Queus\n",
    "\n",
    "##### Stack\n",
    "- push() and pop()\n",
    "- LIFO\n",
    "\n",
    "##### Queue\n",
    "- enqueue() and dequeue()\n",
    "- FIFO"
   ]
  },
  {
   "cell_type": "code",
   "execution_count": 13,
   "id": "3bfd5c30",
   "metadata": {},
   "outputs": [
    {
     "name": "stdout",
     "output_type": "stream",
     "text": [
      "[100, 101, 102, 103, 104]\n"
     ]
    }
   ],
   "source": [
    "stack = []\n",
    "\n",
    "# LIFO push and pop\n",
    "\n",
    "def pushStack(elem):\n",
    "    stack.append(elem)\n",
    "    \n",
    "def popStack():\n",
    "    stack.pop()\n",
    "    \n",
    "pushStack(100)\n",
    "pushStack(101)\n",
    "pushStack(102)\n",
    "pushStack(103)\n",
    "pushStack(104)\n",
    "\n",
    "print(stack)"
   ]
  },
  {
   "cell_type": "code",
   "execution_count": 14,
   "id": "1e510e17",
   "metadata": {},
   "outputs": [],
   "source": [
    "popStack()"
   ]
  },
  {
   "cell_type": "code",
   "execution_count": 15,
   "id": "c621b143",
   "metadata": {},
   "outputs": [
    {
     "name": "stdout",
     "output_type": "stream",
     "text": [
      "[100, 101, 102, 103]\n"
     ]
    }
   ],
   "source": [
    "print(stack)"
   ]
  },
  {
   "cell_type": "markdown",
   "id": "adeec653",
   "metadata": {},
   "source": [
    "## Queue"
   ]
  },
  {
   "cell_type": "code",
   "execution_count": 16,
   "id": "93537d3c",
   "metadata": {},
   "outputs": [
    {
     "name": "stdout",
     "output_type": "stream",
     "text": [
      "[1000]\n"
     ]
    }
   ],
   "source": [
    "queue = []\n",
    "\n",
    "# FIFO enquue and dequeue\n",
    "\n",
    "def enqueu(elem):\n",
    "    queue.append(elem)\n",
    "def dequeue():\n",
    "    queue.pop(0)\n",
    "enqueu(1000)\n",
    "\n",
    "print(queue)"
   ]
  },
  {
   "cell_type": "code",
   "execution_count": 17,
   "id": "053544ac",
   "metadata": {},
   "outputs": [
    {
     "name": "stdout",
     "output_type": "stream",
     "text": [
      "[1000, 1001, 1002, 1003, 1004, 1005]\n"
     ]
    }
   ],
   "source": [
    "enqueu(1001)\n",
    "enqueu(1002)\n",
    "enqueu(1003)\n",
    "enqueu(1004)\n",
    "enqueu(1005)\n",
    "\n",
    "print(queue)"
   ]
  },
  {
   "cell_type": "code",
   "execution_count": 18,
   "id": "852a7813",
   "metadata": {},
   "outputs": [],
   "source": [
    "dequeue()"
   ]
  },
  {
   "cell_type": "code",
   "execution_count": 19,
   "id": "dc6a970c",
   "metadata": {},
   "outputs": [
    {
     "name": "stdout",
     "output_type": "stream",
     "text": [
      "[1001, 1002, 1003, 1004, 1005]\n"
     ]
    }
   ],
   "source": [
    "print(queue)"
   ]
  },
  {
   "cell_type": "code",
   "execution_count": null,
   "id": "ff1c4ed3",
   "metadata": {},
   "outputs": [],
   "source": []
  },
  {
   "cell_type": "markdown",
   "id": "05ce6bc2",
   "metadata": {},
   "source": [
    "### Stack using linked list"
   ]
  },
  {
   "cell_type": "code",
   "execution_count": 20,
   "id": "7b610d13",
   "metadata": {},
   "outputs": [
    {
     "name": "stdout",
     "output_type": "stream",
     "text": [
      "44 -> 33 -> 22 -> 11 -> None\n",
      "\n",
      "Top element is  44\n",
      "22 -> 11 -> None\n",
      "\n",
      "Top element is  22\n"
     ]
    }
   ],
   "source": [
    "class Node:\n",
    "     \n",
    "    # Class to create nodes of linked list\n",
    "    # constructor initializes node automatically\n",
    "    def __init__(self,data):\n",
    "        self.data = data\n",
    "        self.next = None\n",
    "     \n",
    "class Stack:\n",
    "     \n",
    "    # head is default None\n",
    "    def __init__(self):\n",
    "        self.head = None\n",
    "     \n",
    "    # Checks if stack is empty\n",
    "    def isempty(self):\n",
    "        if self.head == None:\n",
    "            return True\n",
    "        else:\n",
    "            return False\n",
    "     \n",
    "    # Method to add data to the stack\n",
    "    # adds to the start of the stack\n",
    "    def push(self,data):\n",
    "         \n",
    "        if self.head == None:\n",
    "            self.head=Node(data)\n",
    "             \n",
    "        else:\n",
    "            newnode = Node(data)\n",
    "            newnode.next = self.head\n",
    "            self.head = newnode\n",
    "     \n",
    "    # Remove element that is the current head (start of the stack)\n",
    "    def pop(self):\n",
    "         \n",
    "        if self.isempty():\n",
    "            return None\n",
    "             \n",
    "        else:\n",
    "            # Removes the head node and makes\n",
    "            #the preceding one the new head\n",
    "            poppednode = self.head\n",
    "            self.head = self.head.next\n",
    "            poppednode.next = None\n",
    "            return poppednode.data\n",
    "     \n",
    "    # Returns the head node data\n",
    "    def peek(self):\n",
    "         \n",
    "        if self.isempty():\n",
    "            return None\n",
    "             \n",
    "        else:\n",
    "            return self.head.data\n",
    "     \n",
    "    # Prints out the stack    \n",
    "    def display(self):\n",
    "         \n",
    "        iternode = self.head\n",
    "        if self.isempty():\n",
    "            print(\"Stack Underflow\")\n",
    "         \n",
    "        else:\n",
    "             \n",
    "            while(iternode != None):\n",
    "                 \n",
    "                print(iternode.data,\"->\",end = \" \")\n",
    "                iternode = iternode.next\n",
    "                if iternode is None:\n",
    "                    print(\"None\")\n",
    "            return\n",
    "         \n",
    "# Driver code\n",
    "MyStack = Stack()\n",
    " \n",
    "MyStack.push(11)\n",
    "MyStack.push(22)\n",
    "MyStack.push(33)\n",
    "MyStack.push(44)\n",
    " \n",
    "# Display stack elements\n",
    "MyStack.display()\n",
    " \n",
    "# Print top element of stack\n",
    "print(\"\\nTop element is \",MyStack.peek())\n",
    " \n",
    "# Delete top elements of stack\n",
    "MyStack.pop()\n",
    "MyStack.pop()\n",
    " \n",
    "# Display stack elements\n",
    "MyStack.display()\n",
    " \n",
    "# Print top element of stack\n",
    "print(\"\\nTop element is \", MyStack.peek())"
   ]
  },
  {
   "cell_type": "code",
   "execution_count": null,
   "id": "3cc2ae97",
   "metadata": {},
   "outputs": [],
   "source": []
  },
  {
   "cell_type": "markdown",
   "id": "940909b9",
   "metadata": {},
   "source": [
    "# From in learning course:\n",
    "\n",
    "### SLLNode\n"
   ]
  },
  {
   "cell_type": "code",
   "execution_count": 21,
   "id": "c57df3fb",
   "metadata": {},
   "outputs": [],
   "source": [
    "class SLLNode:\n",
    "    def __init__(self,data):\n",
    "        self.data = data\n",
    "        self.next = None\n",
    "        \n",
    "    def __repr__(self):\n",
    "        return \"SLLNode object: data={}\".format(self.data)\n",
    "        \n",
    "    def get_data(self):\n",
    "        return self.data\n",
    "    \n",
    "    def set_data(self):\n",
    "        self.data = new_next\n",
    "        \n",
    "    def get_next(self):\n",
    "        return self.next\n",
    "        \n",
    "    def set_next(self,new_next):\n",
    "        self.next= new_next\n",
    "        \n",
    "        "
   ]
  },
  {
   "cell_type": "code",
   "execution_count": 22,
   "id": "8fa83226",
   "metadata": {},
   "outputs": [],
   "source": [
    "node = SLLNode(\"apple\")"
   ]
  },
  {
   "cell_type": "code",
   "execution_count": 23,
   "id": "f1e22571",
   "metadata": {},
   "outputs": [
    {
     "data": {
      "text/plain": [
       "'apple'"
      ]
     },
     "execution_count": 23,
     "metadata": {},
     "output_type": "execute_result"
    }
   ],
   "source": [
    "node.get_data()"
   ]
  },
  {
   "cell_type": "code",
   "execution_count": 24,
   "id": "f7f62691",
   "metadata": {},
   "outputs": [],
   "source": [
    "node1= SLLNode(\"apple\")\n",
    "node2 = SLLNode(2)"
   ]
  },
  {
   "cell_type": "code",
   "execution_count": null,
   "id": "866640e3",
   "metadata": {},
   "outputs": [],
   "source": []
  },
  {
   "cell_type": "code",
   "execution_count": null,
   "id": "d0e8f6ca",
   "metadata": {},
   "outputs": [],
   "source": []
  },
  {
   "cell_type": "markdown",
   "id": "260e0ec7",
   "metadata": {},
   "source": [
    "### DLL Node"
   ]
  },
  {
   "cell_type": "code",
   "execution_count": 25,
   "id": "22f0b73c",
   "metadata": {},
   "outputs": [],
   "source": [
    "class DLLNode:\n",
    "    def __init__(self,data):\n",
    "        self.data = data\n",
    "        self.next = None\n",
    "        self.prev = None\n",
    "        \n",
    "    def __repr__(self):\n",
    "        return \"DLLNode object: data={}\".format(self.data)\n",
    "        \n",
    "    def get_data(self):\n",
    "        return self.data\n",
    "    \n",
    "    def set_data(self):\n",
    "        self.data = new_next\n",
    "        \n",
    "    def get_next(self):\n",
    "        return self.next\n",
    "        \n",
    "    def set_next(self,new_next):\n",
    "        self.next= new_next\n",
    "        \n",
    "    def get_prev(self):\n",
    "        return self.prev\n",
    "    \n",
    "    def set_prev(self, new_prev):\n",
    "        self.prev = new_prev\n",
    "        "
   ]
  },
  {
   "cell_type": "code",
   "execution_count": 26,
   "id": "0e4c5dd0",
   "metadata": {},
   "outputs": [],
   "source": [
    "node5= DLLNode(1)\n",
    "node6 = DLLNode(2)\n"
   ]
  },
  {
   "cell_type": "code",
   "execution_count": null,
   "id": "24e93556",
   "metadata": {},
   "outputs": [],
   "source": []
  },
  {
   "cell_type": "code",
   "execution_count": null,
   "id": "cf93ddcf",
   "metadata": {},
   "outputs": [],
   "source": []
  },
  {
   "cell_type": "markdown",
   "id": "15552dab",
   "metadata": {},
   "source": [
    "### SLL Class"
   ]
  },
  {
   "cell_type": "code",
   "execution_count": 27,
   "id": "4fdc4118",
   "metadata": {},
   "outputs": [],
   "source": [
    "class SLL:\n",
    "    def __init__(self):\n",
    "        self.head= head= None\n",
    "        \n",
    "    def __repr__(self):\n",
    "        return \"SLLNode object: head={}\".format(self.head)\n",
    "    \n",
    "    def is_empty(self): # return True if empty\n",
    "        return self.head is None\n",
    "    \n",
    "    def add_front(self,new_data): # adds data to front\n",
    "        temp = SLLNode(new_data)\n",
    "        temp.set_next(self.head)\n",
    "        self.head = temp\n",
    "        \n",
    "    # traverses the LL and returns the number of nodes/ t = O(n)     \n",
    "    def size(self):\n",
    "        size = 0\n",
    "        if self.head is None:\n",
    "            return 0\n",
    "        current = self.head\n",
    "        while current is not None: # while there are still Nodes left to count\n",
    "            size += 1\n",
    "            current = current.get_next()\n",
    "        return size\n",
    "    \n",
    "    \n",
    "    #traverses the LL and returns true if target is present / t = O(n)\n",
    "    def search(self,data):\n",
    "        if self.head is None:\n",
    "            return \"LL is empty\"\n",
    "        \n",
    "        current = self.head\n",
    "        while current is not None:\n",
    "            if current.get_data() == data:\n",
    "                return True\n",
    "            else:\n",
    "                current = current.get_next()\n",
    "        return False # return False if not found\n",
    "        \n",
    "        \n",
    "    def remove(self, data):\n",
    "        if self.head is None:\n",
    "            return \"It is empty\"\n",
    "        current = self.head\n",
    "        prev= None\n",
    "        found = False\n",
    "        while not found:\n",
    "            if current.get_data() == data:\n",
    "                found = True\n",
    "            else:\n",
    "                if current.get_next() == None:\n",
    "                    return \"Not here\"\n",
    "                else:\n",
    "                    prev = current\n",
    "                    current = current.get_next()\n",
    "        if prev is None:\n",
    "            self.head = current.get_next()\n",
    "        else:\n",
    "            prev.set_next(current.get_next)\n",
    "            \n",
    "    "
   ]
  },
  {
   "cell_type": "code",
   "execution_count": 28,
   "id": "61e25752",
   "metadata": {},
   "outputs": [
    {
     "data": {
      "text/plain": [
       "True"
      ]
     },
     "execution_count": 28,
     "metadata": {},
     "output_type": "execute_result"
    }
   ],
   "source": [
    "sll = SLL()\n",
    "sll.is_empty()"
   ]
  },
  {
   "cell_type": "code",
   "execution_count": 29,
   "id": "40405e20",
   "metadata": {},
   "outputs": [],
   "source": [
    "sll1 = SLL()\n",
    "sll1.head\n",
    "sll1.add_front('berry')"
   ]
  },
  {
   "cell_type": "code",
   "execution_count": 30,
   "id": "a09976b0",
   "metadata": {},
   "outputs": [
    {
     "data": {
      "text/plain": [
       "SLLNode object: data=berry"
      ]
     },
     "execution_count": 30,
     "metadata": {},
     "output_type": "execute_result"
    }
   ],
   "source": [
    "sll1.head\n",
    "\n"
   ]
  },
  {
   "cell_type": "code",
   "execution_count": 31,
   "id": "b3bc75a6",
   "metadata": {},
   "outputs": [
    {
     "data": {
      "text/plain": [
       "0"
      ]
     },
     "execution_count": 31,
     "metadata": {},
     "output_type": "execute_result"
    }
   ],
   "source": [
    "sllsize = SLL()\n",
    "sllsize.size()"
   ]
  },
  {
   "cell_type": "code",
   "execution_count": 32,
   "id": "ce521561",
   "metadata": {},
   "outputs": [],
   "source": [
    "sll = SLL()\n",
    "sll.add_front(1)\n",
    "sll.add_front(2)\n",
    "sll.add_front(\"Hi\")"
   ]
  },
  {
   "cell_type": "code",
   "execution_count": 33,
   "id": "e609d9d5",
   "metadata": {},
   "outputs": [
    {
     "name": "stdout",
     "output_type": "stream",
     "text": [
      "True\n",
      "True\n",
      "True\n",
      "False\n"
     ]
    }
   ],
   "source": [
    "print(sll.search(2))\n",
    "print(sll.search(1))\n",
    "print(sll.search(\"Hi\"))\n",
    "print(sll.search(\"No\"))"
   ]
  },
  {
   "cell_type": "markdown",
   "id": "efe1294c",
   "metadata": {},
   "source": [
    "### DLL Class"
   ]
  },
  {
   "cell_type": "code",
   "execution_count": 34,
   "id": "5ca90c84",
   "metadata": {},
   "outputs": [],
   "source": [
    "class DLLNode:\n",
    "\n",
    "    def __init__(self, data):\n",
    "        self.data = data\n",
    "        self.next = None\n",
    "        self.previous = None\n",
    "\n",
    "    def __repr__(self):\n",
    "        return \"DLLNode object: data={}\".format(self.data)\n",
    "\n",
    "    def get_data(self):\n",
    "        \"\"\"Return the self.data attribute.\"\"\"\n",
    "        return self.data\n",
    "\n",
    "    def set_data(self, new_data):\n",
    "        \"\"\"Replace the existing value of the self.data attribute with new_data\n",
    "        parameter.\"\"\"\n",
    "        self.data = new_data\n",
    "\n",
    "    def get_next(self):\n",
    "        \"\"\"Return the self.next attribute\"\"\"\n",
    "        return self.next\n",
    "\n",
    "    def set_next(self, new_next):\n",
    "        \"\"\"Replace the existing value of the self.next attribute with new_next\n",
    "        parameter.\"\"\"\n",
    "        self.next = new_next\n",
    "\n",
    "    def get_previous(self):\n",
    "        \"\"\"Return the self.previous attribute\"\"\"\n",
    "        return self.previous\n",
    "\n",
    "    def set_previous(self, new_previous):\n",
    "        \"\"\"Replace the existing value of the self.previous attribute with\n",
    "        new_previous parameter.\"\"\"\n",
    "        self.previous = new_previous\n",
    "\n",
    "\n",
    "class DLL:\n",
    "\n",
    "    def __init__(self):\n",
    "        self.head = None\n",
    "\n",
    "    def __repr__(self):\n",
    "        return \"<DLL object: head=>\".format(self.head)\n",
    "\n",
    "    def is_empty(self):\n",
    "        return self.head is None\n",
    "\n",
    "    def size(self):\n",
    "        \"\"\"Traverses the Linked List and returns an integer value representing\n",
    "        the number of nodes in the Linked List.\n",
    "\n",
    "        The time complexity is O(n) because every Node in the Linked List must\n",
    "        be visited in order to calculate the size of the Linked List.\n",
    "        \"\"\"\n",
    "        size = 0\n",
    "        if self.head is None:\n",
    "            return 0\n",
    "\n",
    "        current = self.head\n",
    "        while current is not None:  # While there are still Nodes left to count\n",
    "            size += 1\n",
    "            current = current.get_next()\n",
    "\n",
    "        return size\n",
    "\n",
    "    def search(self, data):\n",
    "        \"\"\"Traverses the Linked List and returns True if the data searched for\n",
    "        is present in one of the Nodes. Otherwise, it returns False.\n",
    "\n",
    "        The time complexity is O(n) because in the worst case, we have to visit\n",
    "        every Node in the list.\n",
    "        \"\"\"\n",
    "        if self.head is None:\n",
    "            return \"Linked List is empty. No Nodes to search.\"\n",
    "\n",
    "        current = self.head\n",
    "        while current is not None:\n",
    "            if current.get_data() == data:\n",
    "                return True\n",
    "            else:\n",
    "                current = current.get_next()\n",
    "\n",
    "        return False\n",
    "\n",
    "    def add_front(self, new_data):\n",
    "        \"\"\"Add a Node whose data is the new_data argument to the front of the\n",
    "        Linked List.\"\"\"\n",
    "        temp = DLLNode(new_data)\n",
    "        temp.set_next(self.head)\n",
    "\n",
    "        if self.head is not None:\n",
    "            self.head.set_previous(temp)\n",
    "\n",
    "        self.head = temp\n",
    "\n",
    "    def remove(self, data):\n",
    "        \"\"\"Removes the first occurence of a Node that contains the data argument\n",
    "        as its self.data attribute. Returns nothing.\n",
    "\n",
    "        The time complexity is O(n) because in the worst case, we have to visit\n",
    "        every Node before finding the one we want to remove.\n",
    "        \"\"\"\n",
    "        if self.head is None:\n",
    "            return \"Linked List is empty. No Nodes to remove.\"\n",
    "\n",
    "        current = self.head\n",
    "        found = False\n",
    "        while not found:\n",
    "            if current.get_data() == data:\n",
    "                found = True\n",
    "            else:\n",
    "                if current.get_next() is None:\n",
    "                    return \"A Node with that data value is not present.\"\n",
    "                else:\n",
    "                    current = current.get_next()\n",
    "\n",
    "        if current.previous is None:\n",
    "            self.head = current.get_next()\n",
    "        else:\n",
    "            current.previous.set_next(current.get_next())\n",
    "            current.next.set_previous(current.get_previous())\n"
   ]
  },
  {
   "cell_type": "code",
   "execution_count": 35,
   "id": "77ea9cf9",
   "metadata": {},
   "outputs": [],
   "source": [
    "dll = DLL()"
   ]
  },
  {
   "cell_type": "code",
   "execution_count": 36,
   "id": "daca6c69",
   "metadata": {},
   "outputs": [
    {
     "data": {
      "text/plain": [
       "0"
      ]
     },
     "execution_count": 36,
     "metadata": {},
     "output_type": "execute_result"
    }
   ],
   "source": [
    "dll.size()"
   ]
  },
  {
   "cell_type": "code",
   "execution_count": 37,
   "id": "080792ac",
   "metadata": {},
   "outputs": [
    {
     "data": {
      "text/plain": [
       "2"
      ]
     },
     "execution_count": 37,
     "metadata": {},
     "output_type": "execute_result"
    }
   ],
   "source": [
    "dll.add_front(3)\n",
    "dll.add_front(2)\n",
    "dll.size()"
   ]
  },
  {
   "cell_type": "code",
   "execution_count": 38,
   "id": "141c6bf7",
   "metadata": {},
   "outputs": [
    {
     "data": {
      "text/plain": [
       "DLLNode object: data=2"
      ]
     },
     "execution_count": 38,
     "metadata": {},
     "output_type": "execute_result"
    }
   ],
   "source": [
    "dll.head"
   ]
  },
  {
   "cell_type": "code",
   "execution_count": 39,
   "id": "8ae508a1",
   "metadata": {},
   "outputs": [
    {
     "data": {
      "text/plain": [
       "'Linked List is empty. No Nodes to remove.'"
      ]
     },
     "execution_count": 39,
     "metadata": {},
     "output_type": "execute_result"
    }
   ],
   "source": [
    "dll = DLL()\n",
    "\n",
    "dll.remove(\"lol\")"
   ]
  },
  {
   "cell_type": "code",
   "execution_count": 40,
   "id": "81bf2acc",
   "metadata": {},
   "outputs": [],
   "source": [
    "dll.add_front(5)\n",
    "dll.add_front(3)"
   ]
  },
  {
   "cell_type": "code",
   "execution_count": 41,
   "id": "7bc7f442",
   "metadata": {},
   "outputs": [
    {
     "data": {
      "text/plain": [
       "'A Node with that data value is not present.'"
      ]
     },
     "execution_count": 41,
     "metadata": {},
     "output_type": "execute_result"
    }
   ],
   "source": [
    "dll.remove(\"fire\")"
   ]
  },
  {
   "cell_type": "code",
   "execution_count": 42,
   "id": "8f23bdb8",
   "metadata": {},
   "outputs": [
    {
     "data": {
      "text/plain": [
       "2"
      ]
     },
     "execution_count": 42,
     "metadata": {},
     "output_type": "execute_result"
    }
   ],
   "source": [
    "dll.size()"
   ]
  },
  {
   "cell_type": "code",
   "execution_count": null,
   "id": "ab0c73f6",
   "metadata": {},
   "outputs": [],
   "source": []
  },
  {
   "cell_type": "markdown",
   "id": "4fe93eea",
   "metadata": {},
   "source": [
    "## Leetcode problems"
   ]
  },
  {
   "cell_type": "code",
   "execution_count": 44,
   "id": "44867819",
   "metadata": {},
   "outputs": [],
   "source": [
    "from typing import List\n",
    "\n",
    "class Solution:\n",
    "    def fourSumCount(self, A: List[int], B: List[int], C: List[int], D: List[int]) -> int:\n",
    "        m = {}\n",
    "        ans = 0\n",
    "\n",
    "        for i in range(0,len(A)):\n",
    "            x = A[i]\n",
    "            for j in range(0,len(B)):\n",
    "                y = B[j]\n",
    "                if(x+y not in m):\n",
    "                    m[x+y] = 0\n",
    "                m[x+y]+=1\n",
    "\n",
    "        for i in range(0,len(C)):\n",
    "            x = C[i]\n",
    "            for j in range(0,len(D)):\n",
    "                y = D[j]\n",
    "                target = -(x+y)\n",
    "                if(target in m):\n",
    "                    ans+=m[target]\n",
    "        return ans"
   ]
  },
  {
   "cell_type": "code",
   "execution_count": 45,
   "id": "0a2862b8",
   "metadata": {},
   "outputs": [],
   "source": [
    "\n",
    "class Solution:\n",
    "    def fourSumCount(self, A: List[int], B: List[int], C: List[int], D: List[int]) -> int:\n",
    "      m = {}\n",
    "      ans = 0\n",
    "\n",
    "      for i in range(0,len(A)):\n",
    "        x = A[i]\n",
    "        for j in range(0,len(B)):\n",
    "          y = B[j]\n",
    "          if(x+y not in m):\n",
    "            m[x+y] = 0\n",
    "          m[x+y]+=1\n",
    "\n",
    "      for i in range(0,len(C)):\n",
    "        x = C[i]\n",
    "        for j in range(0,len(D)):\n",
    "          y = D[j]\n",
    "          target = -(x+y)\n",
    "          if(target in m):\n",
    "            ans+=m[target]\n",
    "\n",
    "      return ans"
   ]
  },
  {
   "cell_type": "markdown",
   "id": "5f8de3eb",
   "metadata": {},
   "source": [
    "- Given a string s which consists of lowercase or uppercase letters, return the length of the longest palindrome that can be built with those letters."
   ]
  },
  {
   "cell_type": "code",
   "execution_count": 46,
   "id": "2542bbfa",
   "metadata": {},
   "outputs": [],
   "source": [
    "def longestPalindrome(self, s: str) -> int:\n",
    "        count = {}\n",
    "        for char in s:\n",
    "            count[char] = count.get(char, 0) + 1\n",
    "            \n",
    "        final_count = 0\n",
    "        odd = False\n",
    "        for char in count:\n",
    "            if count[char] % 2 == 0:\n",
    "                final_count += count[char]\n",
    "            else:\n",
    "                final_count += (count[char]-1)\n",
    "                odd = True\n",
    "        if odd:\n",
    "            final_count += 1\n",
    "        return final_count\n",
    "        "
   ]
  },
  {
   "cell_type": "code",
   "execution_count": null,
   "id": "b1508558",
   "metadata": {},
   "outputs": [],
   "source": []
  },
  {
   "cell_type": "markdown",
   "id": "9fb40840",
   "metadata": {},
   "source": [
    "An underground railway system is keeping track of customer travel times between different stations. They are using this data to calculate the average time it takes to travel from one station to another.\n",
    "\n",
    "- Implement the UndergroundSystem class"
   ]
  },
  {
   "cell_type": "code",
   "execution_count": 47,
   "id": "6fabde35",
   "metadata": {},
   "outputs": [],
   "source": [
    "class UndergroundSystem:\n",
    "\n",
    "    def __init__(self):\n",
    "        self.user = collections.defaultdict(list)\n",
    "        self.dest = collections.defaultdict(list)\n",
    "        \n",
    "    def checkIn(self, id: int, stationName: str, t: int) -> None:\n",
    "        self.user[id] = [stationName, t]\n",
    "        \n",
    "    def checkOut(self, id: int, stationName: str, t: int) -> None:\n",
    "        startStation, prev_time = self.user[id]\n",
    "        route = startStation + \"_\" + stationName\n",
    "        self.dest[route].append(t-prev_time)\n",
    "\n",
    "    def getAverageTime(self, startStation: str, endStation: str) -> float:\n",
    "        route = startStation + \"_\" + endStation\n",
    "        return sum(self.dest[route])/len(self.dest[route])\n",
    "\n",
    "\n",
    "# Your UndergroundSystem object will be instantiated and called as such:\n",
    "# obj = UndergroundSystem()\n",
    "# obj.checkIn(id,stationName,t)\n",
    "# obj.checkOut(id,stationName,t)\n",
    "# param_3 = obj.getAverageTime(startStation,endStation)"
   ]
  },
  {
   "cell_type": "code",
   "execution_count": null,
   "id": "38ce2591",
   "metadata": {},
   "outputs": [],
   "source": []
  },
  {
   "cell_type": "code",
   "execution_count": null,
   "id": "dfca4d7d",
   "metadata": {},
   "outputs": [],
   "source": []
  }
 ],
 "metadata": {
  "kernelspec": {
   "display_name": "Python 3 (ipykernel)",
   "language": "python",
   "name": "python3"
  },
  "language_info": {
   "codemirror_mode": {
    "name": "ipython",
    "version": 3
   },
   "file_extension": ".py",
   "mimetype": "text/x-python",
   "name": "python",
   "nbconvert_exporter": "python",
   "pygments_lexer": "ipython3",
   "version": "3.9.7"
  }
 },
 "nbformat": 4,
 "nbformat_minor": 5
}
