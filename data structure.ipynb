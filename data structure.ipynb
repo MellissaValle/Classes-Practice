{
 "cells": [
  {
   "cell_type": "markdown",
   "id": "73b354ae",
   "metadata": {},
   "source": [
    "### Inserting into Single Linked List"
   ]
  },
  {
   "cell_type": "code",
   "execution_count": 1,
   "id": "bf2bf27d",
   "metadata": {},
   "outputs": [
    {
     "name": "stdout",
     "output_type": "stream",
     "text": [
      "Mon\n",
      "Tue\n",
      "Wed\n"
     ]
    }
   ],
   "source": [
    "class Node:\n",
    "   def __init__(self, dataval=None):\n",
    "      self.dataval = dataval\n",
    "      self.nextval = None\n",
    "\n",
    "class Sll:\n",
    "   def __init__(self):\n",
    "      self.headval = None\n",
    "\n",
    "   def listprint(self):\n",
    "      printval = self.headval\n",
    "      while printval is not None:\n",
    "         print (printval.dataval)\n",
    "         printval = printval.nextval\n",
    "\n",
    "list = Sll()\n",
    "list.headval = Node(\"Mon\")\n",
    "e2 = Node(\"Tue\")\n",
    "e3 = Node(\"Wed\")\n",
    "\n",
    "# Link first Node to second node\n",
    "list.headval.nextval = e2\n",
    "\n",
    "# Link second Node to third node\n",
    "e2.nextval = e3\n",
    "\n",
    "list.listprint()"
   ]
  },
  {
   "cell_type": "code",
   "execution_count": 2,
   "id": "2d977bb0",
   "metadata": {},
   "outputs": [],
   "source": [
    "#~~~~~~~~~~"
   ]
  },
  {
   "cell_type": "markdown",
   "id": "a82f38cf",
   "metadata": {},
   "source": [
    "## Inserting into Doubly Linked List"
   ]
  },
  {
   "cell_type": "code",
   "execution_count": 3,
   "id": "2b227e56",
   "metadata": {},
   "outputs": [
    {
     "name": "stdout",
     "output_type": "stream",
     "text": [
      "2->3->8->88->None\n",
      "88<- 8<- 3<- 2<- Head \n"
     ]
    }
   ],
   "source": [
    "class Node:\n",
    "    def __init__(self, data):\n",
    "        self.data = data\n",
    "        self.next = None\n",
    "        self.prev = None\n",
    "#Head\n",
    "class Dll:\n",
    "    def __init__(self):\n",
    "        self.head = None\n",
    "\n",
    "a = Node(2)\n",
    "b = Node(3)\n",
    "c = Node(8)\n",
    "d = Node(88)\n",
    "dll = Dll()\n",
    "\n",
    "dll.head = a\n",
    "a.next = b\n",
    "b.prev = a\n",
    "\n",
    "b.next = c\n",
    "c.prev = b\n",
    "\n",
    "c.next = d\n",
    "d.prev = c \n",
    "tmp = dll.head\n",
    "\n",
    "while tmp is not None:\n",
    "    print(tmp.data, end= \"->\")\n",
    "    if tmp.next is  None:\n",
    "        print(\"None\")\n",
    "    tmp = tmp.next\n",
    "    \n",
    "    \n",
    "tmpLast = d\n",
    "while tmpLast is not None:\n",
    "    print(tmpLast.data, end=\"<- \")\n",
    "    if tmpLast.prev  is  None:\n",
    "        print(\"Head \")\n",
    "    tmpLast = tmpLast.prev"
   ]
  },
  {
   "cell_type": "code",
   "execution_count": null,
   "id": "678bbb11",
   "metadata": {},
   "outputs": [],
   "source": []
  },
  {
   "cell_type": "markdown",
   "id": "eb0ed327",
   "metadata": {},
   "source": [
    "### Adding element at the beginning of the linked list"
   ]
  },
  {
   "cell_type": "code",
   "execution_count": 4,
   "id": "eb6d84e1",
   "metadata": {},
   "outputs": [],
   "source": [
    "def add_elemt_last(head, newElem):\n",
    "    tmp = head\n",
    "    while tmp.next is not None:\n",
    "        tmp = tmp.next\n",
    "    e = Node(newElem)\n",
    "    tmp.next = e\n",
    "    \n",
    "    \n",
    "def add_elemt_beg(sll, newElem):\n",
    "    n = Node(newElem)\n",
    "    n.next = sll.head\n",
    "    sll.head = n\n",
    "\n",
    "def add_elemt_atloc(sll, newElem, loc):\n",
    "    tmp = sll.head\n",
    "    for i in range(loc - 1):\n",
    "        if tmp is not None:\n",
    "            tmp = tmp.next\n",
    "        else:\n",
    "            print(\"Location is out\")\n",
    "            break\n",
    "    n = Node(newElem)\n",
    "    nxt = tmp.next \n",
    "    tmp.next = n \n",
    "    n.next = nxt \n",
    "    \n",
    "    \n",
    "def delete_elem(sll, elem):\n",
    "    tmp = sll.head\n",
    "    if tmp.data == elem:\n",
    "        sll.head = tmp.next\n",
    "        tmp = None\n",
    "    else:\n",
    "        while tmp is not None:\n",
    "            if tmp.data == elem:\n",
    "                break\n",
    "            bef = tmp\n",
    "            tmp = tmp.next \n",
    "        bef.next =  tmp.next\n",
    "\n",
    "        \n",
    "def printList(head):\n",
    "    tmp = head\n",
    "    while tmp is not None:\n",
    "        print(tmp.data, end=\"->\")\n",
    "        if tmp.next is None:\n",
    "            print(tmp.data, end=\" \")"
   ]
  },
  {
   "cell_type": "code",
   "execution_count": 5,
   "id": "f626eb71",
   "metadata": {},
   "outputs": [
    {
     "ename": "NameError",
     "evalue": "name 'sll' is not defined",
     "output_type": "error",
     "traceback": [
      "\u001b[0;31m---------------------------------------------------------------------------\u001b[0m",
      "\u001b[0;31mNameError\u001b[0m                                 Traceback (most recent call last)",
      "\u001b[0;32m/var/folders/b1/ljblz4wx75xg5p6m2ky81dx80000gn/T/ipykernel_15452/268278168.py\u001b[0m in \u001b[0;36m<module>\u001b[0;34m\u001b[0m\n\u001b[0;32m----> 1\u001b[0;31m \u001b[0madd_elemt_beg\u001b[0m\u001b[0;34m(\u001b[0m\u001b[0msll\u001b[0m\u001b[0;34m,\u001b[0m \u001b[0;36m100\u001b[0m\u001b[0;34m)\u001b[0m\u001b[0;34m\u001b[0m\u001b[0;34m\u001b[0m\u001b[0m\n\u001b[0m",
      "\u001b[0;31mNameError\u001b[0m: name 'sll' is not defined"
     ]
    }
   ],
   "source": [
    "add_elemt_beg(sll, 100)"
   ]
  },
  {
   "cell_type": "code",
   "execution_count": null,
   "id": "ebd4eb26",
   "metadata": {},
   "outputs": [],
   "source": []
  },
  {
   "cell_type": "code",
   "execution_count": null,
   "id": "ff365d76",
   "metadata": {},
   "outputs": [],
   "source": []
  },
  {
   "cell_type": "code",
   "execution_count": 6,
   "id": "163664b5",
   "metadata": {},
   "outputs": [],
   "source": [
    "def push_front(self, newElement):\n",
    "  \n",
    "  #1 & 2. allocate a new node\n",
    "  #       and assign data element\n",
    "  newNode = Node(newElement)\n",
    "  \n",
    "  #3. make next node of new node as head\n",
    "  newNode.next = self.head\n",
    "  \n",
    "  #4. make new node as head \n",
    "  self.head = newNode "
   ]
  },
  {
   "cell_type": "code",
   "execution_count": 45,
   "id": "1ee60f45",
   "metadata": {},
   "outputs": [
    {
     "name": "stdout",
     "output_type": "stream",
     "text": [
      "The list contains: 30->20->10->None\n",
      "\n"
     ]
    }
   ],
   "source": [
    "# node structure\n",
    "class Node:\n",
    "  def __init__(self, data):\n",
    "    self.data = data\n",
    "    self.next = None\n",
    "\n",
    "#class Linked List\n",
    "class LinkedList:\n",
    "  def __init__(self):\n",
    "    self.head = None\n",
    "\n",
    "  #Add new element at the start of the list\n",
    "  def push_front(self, newElement):\n",
    "    newNode = Node(newElement)\n",
    "    newNode.next = self.head \n",
    "    self.head = newNode   \n",
    "\n",
    "  #display the content of the list\n",
    "  def PrintList(self):\n",
    "    temp = self.head\n",
    "    if(temp != None):\n",
    "      print(\"The list contains:\", end=\" \")\n",
    "      while (temp != None):\n",
    "        print(temp.data, end=\"->\")\n",
    "        temp = temp.next\n",
    "        if temp is None:\n",
    "            print('None')\n",
    "      print()\n",
    "    else:\n",
    "      print(\"The list is empty.\")\n",
    "\n",
    "# test the code                  \n",
    "MyList = LinkedList()\n",
    "\n",
    "#Add three elements at the start of the list.\n",
    "MyList.push_front(10)\n",
    "MyList.push_front(20)\n",
    "MyList.push_front(30)\n",
    "MyList.PrintList()"
   ]
  },
  {
   "cell_type": "code",
   "execution_count": null,
   "id": "29b47c26",
   "metadata": {},
   "outputs": [],
   "source": []
  },
  {
   "cell_type": "code",
   "execution_count": null,
   "id": "b8de05bb",
   "metadata": {},
   "outputs": [],
   "source": []
  },
  {
   "cell_type": "markdown",
   "id": "458677cb",
   "metadata": {},
   "source": [
    "## BST"
   ]
  },
  {
   "cell_type": "code",
   "execution_count": 8,
   "id": "546b6211",
   "metadata": {},
   "outputs": [],
   "source": [
    "#node\n",
    "\n",
    "class Node:\n",
    "    def __init__(self, data):\n",
    "        self.left = None\n",
    "        self.right = None\n",
    "        self.data = data\n",
    "    \n",
    "root = Node(5)\n",
    "a = Node(3)\n",
    "b = Node(7)\n",
    "c = Node(2)\n",
    "d = Node(4)\n",
    "e = Node(6)\n",
    "f = Node(8)\n",
    "\n",
    "root.left = a\n",
    "root.right = b\n",
    "a.left = c\n",
    "a.right = d\n",
    "\n",
    "b.left = e\n",
    "b.right = f"
   ]
  },
  {
   "cell_type": "markdown",
   "id": "2b941c23",
   "metadata": {},
   "source": [
    "\"\"\"\n",
    "             [5]\n",
    "           /    \\\n",
    "          [3]    [7]\n",
    "         /  \\   /  \\\n",
    "       [2] [4] [6] [8]\n",
    "\n",
    "\n",
    "\"\"\""
   ]
  },
  {
   "cell_type": "code",
   "execution_count": 9,
   "id": "7f45e3d2",
   "metadata": {},
   "outputs": [
    {
     "name": "stdout",
     "output_type": "stream",
     "text": [
      "2 3 4 5 6 7 8 "
     ]
    }
   ],
   "source": [
    "def inorder(root): # left , root, right\n",
    "    if root is None:\n",
    "        return\n",
    "    inorder(root.left)\n",
    "    print(root.data, end= \" \")# 2345\n",
    "    inorder(root.right)\n",
    "    \n",
    "inorder(root)\n"
   ]
  },
  {
   "cell_type": "code",
   "execution_count": 10,
   "id": "308c1733",
   "metadata": {},
   "outputs": [
    {
     "name": "stdout",
     "output_type": "stream",
     "text": [
      "5 3 2 4 7 6 8 "
     ]
    }
   ],
   "source": [
    "def preorder(root): # root, left, right\n",
    "    if root is None:\n",
    "        return\n",
    "    print(root.data, end = \" \")\n",
    "    preorder(root.left)\n",
    "    preorder(root.right)\n",
    "    \n",
    "preorder(root)\n",
    "    "
   ]
  },
  {
   "cell_type": "code",
   "execution_count": 11,
   "id": "405800b9",
   "metadata": {},
   "outputs": [
    {
     "name": "stdout",
     "output_type": "stream",
     "text": [
      "2 4 3 6 8 7 5 "
     ]
    }
   ],
   "source": [
    "def postorder(root): # left, right, root\n",
    "    if root is None:\n",
    "        return\n",
    "    postorder(root.left)\n",
    "    postorder(root.right)\n",
    "    print(root.data, end =\" \")\n",
    "postorder(root)\n",
    "        "
   ]
  },
  {
   "cell_type": "code",
   "execution_count": null,
   "id": "638e9672",
   "metadata": {},
   "outputs": [],
   "source": []
  },
  {
   "cell_type": "markdown",
   "id": "761dfaf1",
   "metadata": {},
   "source": [
    "### Insert an element in BST"
   ]
  },
  {
   "cell_type": "code",
   "execution_count": 19,
   "id": "c8eca922",
   "metadata": {},
   "outputs": [],
   "source": [
    "def insert(root,data):\n",
    "    if root is None:\n",
    "        return Node(data)\n",
    "    if data < root.data:\n",
    "        root.left = insert(root.left, data)\n",
    "    else:\n",
    "        root.right = insert(root.right,data)\n",
    "    return root"
   ]
  },
  {
   "cell_type": "code",
   "execution_count": null,
   "id": "daed658c",
   "metadata": {},
   "outputs": [],
   "source": []
  },
  {
   "cell_type": "markdown",
   "id": "c56cc5c8",
   "metadata": {},
   "source": [
    "## Stack and Queus\n",
    "\n",
    "##### Stack\n",
    "- push() and pop()\n",
    "- LIFO\n",
    "\n",
    "##### Queue\n",
    "- enqueue() and dequeue()\n",
    "- FIFO"
   ]
  },
  {
   "cell_type": "code",
   "execution_count": 25,
   "id": "3bfd5c30",
   "metadata": {},
   "outputs": [
    {
     "name": "stdout",
     "output_type": "stream",
     "text": [
      "[100, 101, 102, 103, 104]\n"
     ]
    }
   ],
   "source": [
    "stack = []\n",
    "\n",
    "# LIFO push and pop\n",
    "\n",
    "def pushStack(elem):\n",
    "    stack.append(elem)\n",
    "    \n",
    "def popStack():\n",
    "    stack.pop()\n",
    "    \n",
    "pushStack(100)\n",
    "pushStack(101)\n",
    "pushStack(102)\n",
    "pushStack(103)\n",
    "pushStack(104)\n",
    "\n",
    "print(stack)"
   ]
  },
  {
   "cell_type": "code",
   "execution_count": 26,
   "id": "1e510e17",
   "metadata": {},
   "outputs": [],
   "source": [
    "popStack()"
   ]
  },
  {
   "cell_type": "code",
   "execution_count": 27,
   "id": "c621b143",
   "metadata": {},
   "outputs": [
    {
     "name": "stdout",
     "output_type": "stream",
     "text": [
      "[100, 101, 102, 103]\n"
     ]
    }
   ],
   "source": [
    "print(stack)"
   ]
  },
  {
   "cell_type": "markdown",
   "id": "adeec653",
   "metadata": {},
   "source": [
    "## Queue"
   ]
  },
  {
   "cell_type": "code",
   "execution_count": 29,
   "id": "93537d3c",
   "metadata": {},
   "outputs": [
    {
     "name": "stdout",
     "output_type": "stream",
     "text": [
      "[1000]\n"
     ]
    }
   ],
   "source": [
    "queue = []\n",
    "\n",
    "# FIFO enquue and dequeue\n",
    "\n",
    "def enqueu(elem):\n",
    "    queue.append(elem)\n",
    "def dequeue():\n",
    "    queue.pop(0)\n",
    "enqueu(1000)\n",
    "\n",
    "print(queue)"
   ]
  },
  {
   "cell_type": "code",
   "execution_count": 30,
   "id": "053544ac",
   "metadata": {},
   "outputs": [
    {
     "name": "stdout",
     "output_type": "stream",
     "text": [
      "[1000, 1001, 1002, 1003, 1004, 1005]\n"
     ]
    }
   ],
   "source": [
    "enqueu(1001)\n",
    "enqueu(1002)\n",
    "enqueu(1003)\n",
    "enqueu(1004)\n",
    "enqueu(1005)\n",
    "\n",
    "print(queue)"
   ]
  },
  {
   "cell_type": "code",
   "execution_count": 37,
   "id": "852a7813",
   "metadata": {},
   "outputs": [],
   "source": [
    "dequeue()"
   ]
  },
  {
   "cell_type": "code",
   "execution_count": 38,
   "id": "dc6a970c",
   "metadata": {},
   "outputs": [
    {
     "name": "stdout",
     "output_type": "stream",
     "text": [
      "[1003, 1004, 1005]\n"
     ]
    }
   ],
   "source": [
    "print(queue)"
   ]
  },
  {
   "cell_type": "code",
   "execution_count": null,
   "id": "ff1c4ed3",
   "metadata": {},
   "outputs": [],
   "source": []
  },
  {
   "cell_type": "markdown",
   "id": "05ce6bc2",
   "metadata": {},
   "source": [
    "### Stack using linked list"
   ]
  },
  {
   "cell_type": "code",
   "execution_count": 43,
   "id": "7b610d13",
   "metadata": {},
   "outputs": [
    {
     "name": "stdout",
     "output_type": "stream",
     "text": [
      "44 -> 33 -> 22 -> 11 -> None\n",
      "\n",
      "Top element is  44\n",
      "22 -> 11 -> None\n",
      "\n",
      "Top element is  22\n"
     ]
    }
   ],
   "source": [
    "class Node:\n",
    "     \n",
    "    # Class to create nodes of linked list\n",
    "    # constructor initializes node automatically\n",
    "    def __init__(self,data):\n",
    "        self.data = data\n",
    "        self.next = None\n",
    "     \n",
    "class Stack:\n",
    "     \n",
    "    # head is default None\n",
    "    def __init__(self):\n",
    "        self.head = None\n",
    "     \n",
    "    # Checks if stack is empty\n",
    "    def isempty(self):\n",
    "        if self.head == None:\n",
    "            return True\n",
    "        else:\n",
    "            return False\n",
    "     \n",
    "    # Method to add data to the stack\n",
    "    # adds to the start of the stack\n",
    "    def push(self,data):\n",
    "         \n",
    "        if self.head == None:\n",
    "            self.head=Node(data)\n",
    "             \n",
    "        else:\n",
    "            newnode = Node(data)\n",
    "            newnode.next = self.head\n",
    "            self.head = newnode\n",
    "     \n",
    "    # Remove element that is the current head (start of the stack)\n",
    "    def pop(self):\n",
    "         \n",
    "        if self.isempty():\n",
    "            return None\n",
    "             \n",
    "        else:\n",
    "            # Removes the head node and makes\n",
    "            #the preceding one the new head\n",
    "            poppednode = self.head\n",
    "            self.head = self.head.next\n",
    "            poppednode.next = None\n",
    "            return poppednode.data\n",
    "     \n",
    "    # Returns the head node data\n",
    "    def peek(self):\n",
    "         \n",
    "        if self.isempty():\n",
    "            return None\n",
    "             \n",
    "        else:\n",
    "            return self.head.data\n",
    "     \n",
    "    # Prints out the stack    \n",
    "    def display(self):\n",
    "         \n",
    "        iternode = self.head\n",
    "        if self.isempty():\n",
    "            print(\"Stack Underflow\")\n",
    "         \n",
    "        else:\n",
    "             \n",
    "            while(iternode != None):\n",
    "                 \n",
    "                print(iternode.data,\"->\",end = \" \")\n",
    "                iternode = iternode.next\n",
    "                if iternode is None:\n",
    "                    print(\"None\")\n",
    "            return\n",
    "         \n",
    "# Driver code\n",
    "MyStack = Stack()\n",
    " \n",
    "MyStack.push(11)\n",
    "MyStack.push(22)\n",
    "MyStack.push(33)\n",
    "MyStack.push(44)\n",
    " \n",
    "# Display stack elements\n",
    "MyStack.display()\n",
    " \n",
    "# Print top element of stack\n",
    "print(\"\\nTop element is \",MyStack.peek())\n",
    " \n",
    "# Delete top elements of stack\n",
    "MyStack.pop()\n",
    "MyStack.pop()\n",
    " \n",
    "# Display stack elements\n",
    "MyStack.display()\n",
    " \n",
    "# Print top element of stack\n",
    "print(\"\\nTop element is \", MyStack.peek())"
   ]
  },
  {
   "cell_type": "code",
   "execution_count": null,
   "id": "3cc2ae97",
   "metadata": {},
   "outputs": [],
   "source": []
  },
  {
   "cell_type": "code",
   "execution_count": null,
   "id": "a350dfdf",
   "metadata": {},
   "outputs": [],
   "source": []
  },
  {
   "cell_type": "code",
   "execution_count": null,
   "id": "c57df3fb",
   "metadata": {},
   "outputs": [],
   "source": []
  },
  {
   "cell_type": "code",
   "execution_count": null,
   "id": "8fa83226",
   "metadata": {},
   "outputs": [],
   "source": []
  },
  {
   "cell_type": "code",
   "execution_count": null,
   "id": "f1e22571",
   "metadata": {},
   "outputs": [],
   "source": []
  },
  {
   "cell_type": "code",
   "execution_count": null,
   "id": "6b6b85f4",
   "metadata": {},
   "outputs": [],
   "source": []
  },
  {
   "cell_type": "code",
   "execution_count": null,
   "id": "f7f62691",
   "metadata": {},
   "outputs": [],
   "source": []
  },
  {
   "cell_type": "code",
   "execution_count": null,
   "id": "866640e3",
   "metadata": {},
   "outputs": [],
   "source": []
  }
 ],
 "metadata": {
  "kernelspec": {
   "display_name": "Python 3 (ipykernel)",
   "language": "python",
   "name": "python3"
  },
  "language_info": {
   "codemirror_mode": {
    "name": "ipython",
    "version": 3
   },
   "file_extension": ".py",
   "mimetype": "text/x-python",
   "name": "python",
   "nbconvert_exporter": "python",
   "pygments_lexer": "ipython3",
   "version": "3.9.7"
  }
 },
 "nbformat": 4,
 "nbformat_minor": 5
}
