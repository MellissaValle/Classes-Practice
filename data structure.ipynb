{
 "cells": [
  {
   "cell_type": "markdown",
   "id": "73b354ae",
   "metadata": {},
   "source": [
    "### Inserting into Single Linked List"
   ]
  },
  {
   "cell_type": "code",
   "execution_count": 31,
   "id": "bf2bf27d",
   "metadata": {},
   "outputs": [
    {
     "name": "stdout",
     "output_type": "stream",
     "text": [
      "Mon\n",
      "Tue\n",
      "Wed\n"
     ]
    }
   ],
   "source": [
    "class Node:\n",
    "   def __init__(self, dataval=None):\n",
    "      self.dataval = dataval\n",
    "      self.nextval = None\n",
    "\n",
    "class Sll:\n",
    "   def __init__(self):\n",
    "      self.headval = None\n",
    "\n",
    "   def listprint(self):\n",
    "      printval = self.headval\n",
    "      while printval is not None:\n",
    "         print (printval.dataval)\n",
    "         printval = printval.nextval\n",
    "\n",
    "list = Sll()\n",
    "list.headval = Node(\"Mon\")\n",
    "e2 = Node(\"Tue\")\n",
    "e3 = Node(\"Wed\")\n",
    "\n",
    "# Link first Node to second node\n",
    "list.headval.nextval = e2\n",
    "\n",
    "# Link second Node to third node\n",
    "e2.nextval = e3\n",
    "\n",
    "list.listprint()"
   ]
  },
  {
   "cell_type": "code",
   "execution_count": 15,
   "id": "2d977bb0",
   "metadata": {},
   "outputs": [],
   "source": [
    "#~~~~~~~~~~"
   ]
  },
  {
   "cell_type": "markdown",
   "id": "a82f38cf",
   "metadata": {},
   "source": [
    "## Inserting into Doubly Linked List"
   ]
  },
  {
   "cell_type": "code",
   "execution_count": 16,
   "id": "2b227e56",
   "metadata": {},
   "outputs": [
    {
     "name": "stdout",
     "output_type": "stream",
     "text": [
      "2->3->8->88->None\n",
      "88<- 8<- 3<- 2<- Head \n"
     ]
    }
   ],
   "source": [
    "class Node:\n",
    "    def __init__(self, data):\n",
    "        self.data = data\n",
    "        self.next = None\n",
    "        self.prev = None\n",
    "#Head\n",
    "class Dll:\n",
    "    def __init__(self):\n",
    "        self.head = None\n",
    "\n",
    "a = Node(2)\n",
    "b = Node(3)\n",
    "c = Node(8)\n",
    "d = Node(88)\n",
    "dll = Dll()\n",
    "\n",
    "dll.head = a\n",
    "a.next = b\n",
    "b.prev = a\n",
    "\n",
    "b.next = c\n",
    "c.prev = b\n",
    "\n",
    "c.next = d\n",
    "d.prev = c \n",
    "tmp = dll.head\n",
    "\n",
    "while tmp is not None:\n",
    "    print(tmp.data, end= \"->\")\n",
    "    if tmp.next is  None:\n",
    "        print(\"None\")\n",
    "    tmp = tmp.next\n",
    "    \n",
    "    \n",
    "tmpLast = d\n",
    "while tmpLast is not None:\n",
    "    print(tmpLast.data, end=\"<- \")\n",
    "    if tmpLast.prev  is  None:\n",
    "        print(\"Head \")\n",
    "    tmpLast = tmpLast.prev"
   ]
  },
  {
   "cell_type": "code",
   "execution_count": null,
   "id": "678bbb11",
   "metadata": {},
   "outputs": [],
   "source": []
  },
  {
   "cell_type": "markdown",
   "id": "eb0ed327",
   "metadata": {},
   "source": [
    "### Adding element at the beginning of the linked list"
   ]
  },
  {
   "cell_type": "code",
   "execution_count": 45,
   "id": "eb6d84e1",
   "metadata": {},
   "outputs": [],
   "source": [
    "def add_elemt_last(head, newElem):\n",
    "    tmp = head\n",
    "    while tmp.next is not None:\n",
    "        tmp = tmp.next\n",
    "    e = Node(newElem)\n",
    "    tmp.next = e\n",
    "    \n",
    "    \n",
    "def add_elemt_beg(sll, newElem):\n",
    "    n = Node(newElem)\n",
    "    n.next = sll.head\n",
    "    sll.head = n\n",
    "\n",
    "def add_elemt_atloc(sll, newElem, loc):\n",
    "    tmp = sll.head\n",
    "    for i in range(loc - 1):\n",
    "        if tmp is not None:\n",
    "            tmp = tmp.next\n",
    "        else:\n",
    "            print(\"Location is out\")\n",
    "            break\n",
    "    n = Node(newElem)\n",
    "    nxt = tmp.next \n",
    "    tmp.next = n \n",
    "    n.next = nxt \n",
    "    \n",
    "    \n",
    "def delete_elem(sll, elem):\n",
    "    tmp = sll.head\n",
    "    if tmp.data == elem:\n",
    "        sll.head = tmp.next\n",
    "        tmp = None\n",
    "    else:\n",
    "        while tmp is not None:\n",
    "            if tmp.data == elem:\n",
    "                break\n",
    "            bef = tmp\n",
    "            tmp = tmp.next \n",
    "        bef.next =  tmp.next\n",
    "\n",
    "        \n",
    "def printList(head):\n",
    "    tmp = head\n",
    "    while tmp is not None:\n",
    "        print(tmp.data, end=\"->\")\n",
    "        if tmp.next is None:\n",
    "            print(tmp.data, end=\" \")"
   ]
  },
  {
   "cell_type": "code",
   "execution_count": 28,
   "id": "f626eb71",
   "metadata": {},
   "outputs": [
    {
     "ename": "AttributeError",
     "evalue": "'Sll' object has no attribute 'head'",
     "output_type": "error",
     "traceback": [
      "\u001b[0;31m---------------------------------------------------------------------------\u001b[0m",
      "\u001b[0;31mAttributeError\u001b[0m                            Traceback (most recent call last)",
      "\u001b[0;32m/var/folders/b1/ljblz4wx75xg5p6m2ky81dx80000gn/T/ipykernel_14977/268278168.py\u001b[0m in \u001b[0;36m<module>\u001b[0;34m\u001b[0m\n\u001b[0;32m----> 1\u001b[0;31m \u001b[0madd_elemt_beg\u001b[0m\u001b[0;34m(\u001b[0m\u001b[0msll\u001b[0m\u001b[0;34m,\u001b[0m \u001b[0;36m100\u001b[0m\u001b[0;34m)\u001b[0m\u001b[0;34m\u001b[0m\u001b[0;34m\u001b[0m\u001b[0m\n\u001b[0m",
      "\u001b[0;32m/var/folders/b1/ljblz4wx75xg5p6m2ky81dx80000gn/T/ipykernel_14977/326840428.py\u001b[0m in \u001b[0;36madd_elemt_beg\u001b[0;34m(sll, newElem)\u001b[0m\n\u001b[1;32m      9\u001b[0m \u001b[0;32mdef\u001b[0m \u001b[0madd_elemt_beg\u001b[0m\u001b[0;34m(\u001b[0m\u001b[0msll\u001b[0m\u001b[0;34m,\u001b[0m \u001b[0mnewElem\u001b[0m\u001b[0;34m)\u001b[0m\u001b[0;34m:\u001b[0m\u001b[0;34m\u001b[0m\u001b[0;34m\u001b[0m\u001b[0m\n\u001b[1;32m     10\u001b[0m     \u001b[0mn\u001b[0m \u001b[0;34m=\u001b[0m \u001b[0mNode\u001b[0m\u001b[0;34m(\u001b[0m\u001b[0mnewElem\u001b[0m\u001b[0;34m)\u001b[0m\u001b[0;34m\u001b[0m\u001b[0;34m\u001b[0m\u001b[0m\n\u001b[0;32m---> 11\u001b[0;31m     \u001b[0mn\u001b[0m\u001b[0;34m.\u001b[0m\u001b[0mnext\u001b[0m \u001b[0;34m=\u001b[0m \u001b[0msll\u001b[0m\u001b[0;34m.\u001b[0m\u001b[0mhead\u001b[0m\u001b[0;34m\u001b[0m\u001b[0;34m\u001b[0m\u001b[0m\n\u001b[0m\u001b[1;32m     12\u001b[0m     \u001b[0msll\u001b[0m\u001b[0;34m.\u001b[0m\u001b[0mhead\u001b[0m \u001b[0;34m=\u001b[0m \u001b[0mn\u001b[0m\u001b[0;34m\u001b[0m\u001b[0;34m\u001b[0m\u001b[0m\n\u001b[1;32m     13\u001b[0m \u001b[0;34m\u001b[0m\u001b[0m\n",
      "\u001b[0;31mAttributeError\u001b[0m: 'Sll' object has no attribute 'head'"
     ]
    }
   ],
   "source": [
    "add_elemt_beg(sll, 100)"
   ]
  },
  {
   "cell_type": "code",
   "execution_count": null,
   "id": "ebd4eb26",
   "metadata": {},
   "outputs": [],
   "source": []
  },
  {
   "cell_type": "code",
   "execution_count": null,
   "id": "ff365d76",
   "metadata": {},
   "outputs": [],
   "source": []
  },
  {
   "cell_type": "code",
   "execution_count": 43,
   "id": "163664b5",
   "metadata": {},
   "outputs": [],
   "source": [
    "def push_front(self, newElement):\n",
    "  \n",
    "  #1 & 2. allocate a new node\n",
    "  #       and assign data element\n",
    "  newNode = Node(newElement)\n",
    "  \n",
    "  #3. make next node of new node as head\n",
    "  newNode.next = self.head\n",
    "  \n",
    "  #4. make new node as head \n",
    "  self.head = newNode "
   ]
  },
  {
   "cell_type": "code",
   "execution_count": 44,
   "id": "1ee60f45",
   "metadata": {},
   "outputs": [
    {
     "name": "stdout",
     "output_type": "stream",
     "text": [
      "The list contains: 30->20->10->\n"
     ]
    }
   ],
   "source": [
    "# node structure\n",
    "class Node:\n",
    "  def __init__(self, data):\n",
    "    self.data = data\n",
    "    self.next = None\n",
    "\n",
    "#class Linked List\n",
    "class LinkedList:\n",
    "  def __init__(self):\n",
    "    self.head = None\n",
    "\n",
    "  #Add new element at the start of the list\n",
    "  def push_front(self, newElement):\n",
    "    newNode = Node(newElement)\n",
    "    newNode.next = self.head \n",
    "    self.head = newNode   \n",
    "\n",
    "  #display the content of the list\n",
    "  def PrintList(self):\n",
    "    temp = self.head\n",
    "    if(temp != None):\n",
    "      print(\"The list contains:\", end=\" \")\n",
    "      while (temp != None):\n",
    "        print(temp.data, end=\"->\")\n",
    "        temp = temp.next\n",
    "      print()\n",
    "    else:\n",
    "      print(\"The list is empty.\")\n",
    "\n",
    "# test the code                  \n",
    "MyList = LinkedList()\n",
    "\n",
    "#Add three elements at the start of the list.\n",
    "MyList.push_front(10)\n",
    "MyList.push_front(20)\n",
    "MyList.push_front(30)\n",
    "MyList.PrintList()"
   ]
  },
  {
   "cell_type": "code",
   "execution_count": null,
   "id": "29b47c26",
   "metadata": {},
   "outputs": [],
   "source": []
  },
  {
   "cell_type": "code",
   "execution_count": null,
   "id": "b8de05bb",
   "metadata": {},
   "outputs": [],
   "source": []
  },
  {
   "cell_type": "markdown",
   "id": "458677cb",
   "metadata": {},
   "source": [
    "## BST"
   ]
  },
  {
   "cell_type": "code",
   "execution_count": 46,
   "id": "546b6211",
   "metadata": {},
   "outputs": [],
   "source": [
    "#node\n",
    "\n",
    "class Node:\n",
    "    def __init__(self, data):\n",
    "        self.left = None\n",
    "        self.right = None\n",
    "        self.data = data\n",
    "    \n",
    "root = Node(5)\n",
    "a = Node(3)\n",
    "b = Node(7)\n",
    "c = Node(2)\n",
    "d = Node(4)\n",
    "e = Node(6)\n",
    "f = Node(8)\n",
    "\n",
    "root.left = a\n",
    "root.right = b\n",
    "a.left = c\n",
    "a.right = d\n",
    "\n",
    "b.left = e\n",
    "b.right = f"
   ]
  },
  {
   "cell_type": "markdown",
   "id": "2b941c23",
   "metadata": {},
   "source": [
    "\"\"\"\n",
    "             [5]\n",
    "           /    \\\n",
    "          [3]    [7]\n",
    "         /  \\   /  \\\n",
    "       [2] [4] [6] [8]\n",
    "\n",
    "\n",
    "\"\"\""
   ]
  },
  {
   "cell_type": "code",
   "execution_count": 48,
   "id": "7f45e3d2",
   "metadata": {},
   "outputs": [
    {
     "name": "stdout",
     "output_type": "stream",
     "text": [
      "2 3 4 5 6 7 8 "
     ]
    }
   ],
   "source": [
    "def inorder(root): # left , root, right\n",
    "    if root is None:\n",
    "        return\n",
    "    inorder(root.left)\n",
    "    print(root.data, end= \" \")# 2345\n",
    "    inorder(root.right)\n",
    "    \n",
    "inorder(root)\n"
   ]
  },
  {
   "cell_type": "code",
   "execution_count": 49,
   "id": "308c1733",
   "metadata": {},
   "outputs": [
    {
     "name": "stdout",
     "output_type": "stream",
     "text": [
      "5 3 2 4 7 6 8 "
     ]
    }
   ],
   "source": [
    "def preorder(root): # root, left, right\n",
    "    if root is None:\n",
    "        return\n",
    "    print(root.data, end = \" \")\n",
    "    preorder(root.left)\n",
    "    preorder(root.right)\n",
    "    \n",
    "preorder(root)\n",
    "    "
   ]
  },
  {
   "cell_type": "code",
   "execution_count": 50,
   "id": "405800b9",
   "metadata": {},
   "outputs": [
    {
     "name": "stdout",
     "output_type": "stream",
     "text": [
      "2 4 3 6 8 7 5 "
     ]
    }
   ],
   "source": [
    "def postorder(root): # left, right, root\n",
    "    if root is None:\n",
    "        return\n",
    "    postorder(root.left)\n",
    "    postorder(root.right)\n",
    "    print(root.data, end =\" \")\n",
    "postorder(root)\n",
    "        "
   ]
  },
  {
   "cell_type": "code",
   "execution_count": null,
   "id": "638e9672",
   "metadata": {},
   "outputs": [],
   "source": []
  },
  {
   "cell_type": "markdown",
   "id": "761dfaf1",
   "metadata": {},
   "source": [
    "### Insert an element in BST"
   ]
  },
  {
   "cell_type": "code",
   "execution_count": null,
   "id": "c8eca922",
   "metadata": {},
   "outputs": [],
   "source": []
  },
  {
   "cell_type": "code",
   "execution_count": null,
   "id": "55daa697",
   "metadata": {},
   "outputs": [],
   "source": []
  },
  {
   "cell_type": "code",
   "execution_count": null,
   "id": "daed658c",
   "metadata": {},
   "outputs": [],
   "source": []
  },
  {
   "cell_type": "code",
   "execution_count": null,
   "id": "59db50b4",
   "metadata": {},
   "outputs": [],
   "source": []
  },
  {
   "cell_type": "code",
   "execution_count": null,
   "id": "3bfd5c30",
   "metadata": {},
   "outputs": [],
   "source": []
  }
 ],
 "metadata": {
  "kernelspec": {
   "display_name": "Python 3 (ipykernel)",
   "language": "python",
   "name": "python3"
  },
  "language_info": {
   "codemirror_mode": {
    "name": "ipython",
    "version": 3
   },
   "file_extension": ".py",
   "mimetype": "text/x-python",
   "name": "python",
   "nbconvert_exporter": "python",
   "pygments_lexer": "ipython3",
   "version": "3.9.7"
  }
 },
 "nbformat": 4,
 "nbformat_minor": 5
}
