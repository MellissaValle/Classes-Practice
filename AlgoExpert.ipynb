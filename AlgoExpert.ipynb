{
 "cells": [
  {
   "cell_type": "code",
   "execution_count": 1,
   "id": "d338c0d6",
   "metadata": {},
   "outputs": [],
   "source": [
    "import numpy as np\n",
    "import pandas as pd"
   ]
  },
  {
   "cell_type": "markdown",
   "id": "c1490ec0",
   "metadata": {},
   "source": [
    "## Arrays Easy"
   ]
  },
  {
   "cell_type": "markdown",
   "id": "b8d6360a",
   "metadata": {},
   "source": [
    "Function the return sorted squares values of a sorted array"
   ]
  },
  {
   "cell_type": "code",
   "execution_count": 2,
   "id": "bbb6f286",
   "metadata": {},
   "outputs": [],
   "source": [
    "#O(n log(n)) time | O(n) space\n",
    "def sortedSquaredArray(array):\n",
    "    array = [x*x for x in array]\n",
    "    array.sort()\n",
    "    return array"
   ]
  },
  {
   "cell_type": "code",
   "execution_count": 3,
   "id": "d7e34a6c",
   "metadata": {},
   "outputs": [
    {
     "name": "stdout",
     "output_type": "stream",
     "text": [
      "[1, 4, 9, 16, 25]\n",
      "[1, 4, 9, 25, 36, 64, 81]\n"
     ]
    }
   ],
   "source": [
    "a = [1, 2, 3, 5, 6, 8, 9]\n",
    "b = [-5, -4, -3, -2, -1]\n",
    "print(sortedSquaredArray(b))\n",
    "print(sortedSquaredArray(a))"
   ]
  },
  {
   "cell_type": "code",
   "execution_count": 4,
   "id": "4ea76842",
   "metadata": {},
   "outputs": [],
   "source": [
    "#O(n) time | O(n) space\n",
    "def sortedSquared_Array(array):\n",
    "    # create new array all 0s\n",
    "    sorted_squared = [0 for _ in array]\n",
    "    # two pointers\n",
    "    left = 0\n",
    "    right = len(array)-1\n",
    "    # iterate reserse to fill up form end to start \n",
    "    for i in reversed(range(len(array))):\n",
    "        left_value = array[left]\n",
    "        right_value = array[right]\n",
    "        # compare and take bigger value then increase or decrease i\n",
    "        if abs(left_value) > abs(right_value):\n",
    "            sorted_squared[i] = left_value * left_value\n",
    "            left +=1\n",
    "        else:\n",
    "            sorted_squared[i] = right_value * right_value\n",
    "            right -=1\n",
    "    return sorted_squared\n",
    "\n"
   ]
  },
  {
   "cell_type": "code",
   "execution_count": 5,
   "id": "95dffb59",
   "metadata": {},
   "outputs": [
    {
     "name": "stdout",
     "output_type": "stream",
     "text": [
      "[1, 4, 9, 16, 25]\n",
      "[1, 4, 9, 25, 36, 64, 81]\n"
     ]
    }
   ],
   "source": [
    "print(sortedSquared_Array(b))\n",
    "print(sortedSquared_Array(a))"
   ]
  },
  {
   "cell_type": "markdown",
   "id": "2b53a6dd",
   "metadata": {},
   "source": [
    "## Arrays Medium"
   ]
  },
  {
   "cell_type": "markdown",
   "id": "a84c1e16",
   "metadata": {},
   "source": [
    "- Smallest Difference "
   ]
  },
  {
   "cell_type": "code",
   "execution_count": 6,
   "id": "d621707f",
   "metadata": {},
   "outputs": [],
   "source": [
    "def smallestDifference(arrayOne, arrayTwo):\n",
    "    result = []\n",
    "    arrayOne.sort()\n",
    "    arrayTwo.sort()\n",
    "    pointer_One = 0\n",
    "    pointer_Two = 0\n",
    "    current = float(\"inf\")\n",
    "    smallest = float(\"inf\")\n",
    "\n",
    "    while pointer_One < len(arrayOne) and pointer_Two < len(arrayTwo):\n",
    "        numOne = arrayOne[pointer_One]\n",
    "        numTwo = arrayTwo[pointer_Two]\n",
    "\n",
    "        if numOne < numTwo:\n",
    "            current = numTwo - numOne\n",
    "            pointer_One += 1\n",
    "        elif numOne > numTwo:\n",
    "            current = numOne - numTwo\n",
    "            pointer_Two += 1\n",
    "        else:\n",
    "            return [numOne, numTwo]\n",
    "        if  smallest > current:\n",
    "            smallest = current\n",
    "            result = [numOne, numTwo]\n",
    "    return result\n"
   ]
  },
  {
   "cell_type": "code",
   "execution_count": null,
   "id": "9660174e",
   "metadata": {},
   "outputs": [],
   "source": []
  },
  {
   "cell_type": "code",
   "execution_count": null,
   "id": "3f68503b",
   "metadata": {},
   "outputs": [],
   "source": []
  },
  {
   "cell_type": "code",
   "execution_count": null,
   "id": "3a7db9c0",
   "metadata": {},
   "outputs": [],
   "source": []
  }
 ],
 "metadata": {
  "kernelspec": {
   "display_name": "Python 3 (ipykernel)",
   "language": "python",
   "name": "python3"
  },
  "language_info": {
   "codemirror_mode": {
    "name": "ipython",
    "version": 3
   },
   "file_extension": ".py",
   "mimetype": "text/x-python",
   "name": "python",
   "nbconvert_exporter": "python",
   "pygments_lexer": "ipython3",
   "version": "3.9.7"
  }
 },
 "nbformat": 4,
 "nbformat_minor": 5
}
