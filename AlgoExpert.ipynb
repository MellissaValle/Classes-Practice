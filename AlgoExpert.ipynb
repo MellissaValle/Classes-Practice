{
 "cells": [
  {
   "cell_type": "code",
   "execution_count": 1,
   "id": "d338c0d6",
   "metadata": {},
   "outputs": [],
   "source": [
    "import numpy as np\n",
    "import pandas as pd"
   ]
  },
  {
   "cell_type": "markdown",
   "id": "c1490ec0",
   "metadata": {},
   "source": [
    "# Arrays Easy"
   ]
  },
  {
   "cell_type": "markdown",
   "id": "b8d6360a",
   "metadata": {},
   "source": [
    "Function the return sorted squares values of a sorted array"
   ]
  },
  {
   "cell_type": "code",
   "execution_count": 2,
   "id": "bbb6f286",
   "metadata": {},
   "outputs": [],
   "source": [
    "#O(n log(n)) time | O(n) space\n",
    "def sortedSquaredArray(array):\n",
    "    array = [x*x for x in array]\n",
    "    array.sort()\n",
    "    return array"
   ]
  },
  {
   "cell_type": "code",
   "execution_count": 3,
   "id": "d7e34a6c",
   "metadata": {},
   "outputs": [
    {
     "name": "stdout",
     "output_type": "stream",
     "text": [
      "[1, 4, 9, 16, 25]\n",
      "[1, 4, 9, 25, 36, 64, 81]\n"
     ]
    }
   ],
   "source": [
    "a = [1, 2, 3, 5, 6, 8, 9]\n",
    "b = [-5, -4, -3, -2, -1]\n",
    "print(sortedSquaredArray(b))\n",
    "print(sortedSquaredArray(a))"
   ]
  },
  {
   "cell_type": "code",
   "execution_count": 4,
   "id": "4ea76842",
   "metadata": {},
   "outputs": [],
   "source": [
    "#O(n) time | O(n) space\n",
    "def sortedSquared_Array(array):\n",
    "    # create new array all 0s\n",
    "    sorted_squared = [0 for _ in array]\n",
    "    # two pointers\n",
    "    left = 0\n",
    "    right = len(array)-1\n",
    "    # iterate reserse to fill up form end to start \n",
    "    for i in reversed(range(len(array))):\n",
    "        left_value = array[left]\n",
    "        right_value = array[right]\n",
    "        # compare and take bigger value then increase or decrease i\n",
    "        if abs(left_value) > abs(right_value):\n",
    "            sorted_squared[i] = left_value * left_value\n",
    "            left +=1\n",
    "        else:\n",
    "            sorted_squared[i] = right_value * right_value\n",
    "            right -=1\n",
    "    return sorted_squared\n",
    "\n"
   ]
  },
  {
   "cell_type": "code",
   "execution_count": 5,
   "id": "95dffb59",
   "metadata": {},
   "outputs": [
    {
     "name": "stdout",
     "output_type": "stream",
     "text": [
      "[1, 4, 9, 16, 25]\n",
      "[1, 4, 9, 25, 36, 64, 81]\n"
     ]
    }
   ],
   "source": [
    "print(sortedSquared_Array(b))\n",
    "print(sortedSquared_Array(a))"
   ]
  },
  {
   "cell_type": "markdown",
   "id": "2b53a6dd",
   "metadata": {},
   "source": [
    "## Arrays Medium"
   ]
  },
  {
   "cell_type": "markdown",
   "id": "a84c1e16",
   "metadata": {},
   "source": [
    "- Smallest Difference "
   ]
  },
  {
   "cell_type": "code",
   "execution_count": 6,
   "id": "d621707f",
   "metadata": {},
   "outputs": [],
   "source": [
    "def smallestDifference(arrayOne, arrayTwo):\n",
    "    result = []\n",
    "    arrayOne.sort()\n",
    "    arrayTwo.sort()\n",
    "    pointer_One = 0\n",
    "    pointer_Two = 0\n",
    "    current = float(\"inf\")\n",
    "    smallest = float(\"inf\")\n",
    "\n",
    "    while pointer_One < len(arrayOne) and pointer_Two < len(arrayTwo):\n",
    "        numOne = arrayOne[pointer_One]\n",
    "        numTwo = arrayTwo[pointer_Two]\n",
    "\n",
    "        if numOne < numTwo:\n",
    "            current = numTwo - numOne\n",
    "            pointer_One += 1\n",
    "        elif numOne > numTwo:\n",
    "            current = numOne - numTwo\n",
    "            pointer_Two += 1\n",
    "        else:\n",
    "            return [numOne, numTwo]\n",
    "        if  smallest > current:\n",
    "            smallest = current\n",
    "            result = [numOne, numTwo]\n",
    "    return result\n"
   ]
  },
  {
   "cell_type": "code",
   "execution_count": null,
   "id": "9660174e",
   "metadata": {},
   "outputs": [],
   "source": []
  },
  {
   "cell_type": "markdown",
   "id": "08aa6c33",
   "metadata": {},
   "source": [
    "### Move Element to end:\n",
    "> array= [2,1,2,2,2,2,3,4,2]\n",
    "> toMove=2\n",
    "\n",
    "> output: [1,3,4,2,2,2,2,2,2]\n",
    "\n",
    "Numbers 1, 3, 4 can be order differently "
   ]
  },
  {
   "cell_type": "code",
   "execution_count": 7,
   "id": "3a7db9c0",
   "metadata": {},
   "outputs": [],
   "source": [
    "#O(n) time | o(1) n len of array\n",
    "def moveElementToEnd(array, toMove):\n",
    "    i = 0\n",
    "    j = len(array)-1\n",
    "\n",
    "    #as long as i is to the left of j\n",
    "    while i < j:\n",
    "        #account for last swap and move j until != toMove\n",
    "        while i < j and array[j] == toMove:\n",
    "            j -= 1\n",
    "        if array[i] == toMove:\n",
    "            #swap numbers i and j\n",
    "            array[i], array[j] = array[j], array[i]\n",
    "        i += 1\n",
    "    return array\n",
    "    "
   ]
  },
  {
   "cell_type": "code",
   "execution_count": 8,
   "id": "6f0cbd0f",
   "metadata": {},
   "outputs": [
    {
     "data": {
      "text/plain": [
       "[4, 1, 3, 2, 2, 2, 2, 2, 2]"
      ]
     },
     "execution_count": 8,
     "metadata": {},
     "output_type": "execute_result"
    }
   ],
   "source": [
    "a = [2,1,2,2,2,2,3,4,2]\n",
    "moveElementToEnd(a, 2)"
   ]
  },
  {
   "cell_type": "code",
   "execution_count": null,
   "id": "f71d9a92",
   "metadata": {},
   "outputs": [],
   "source": []
  },
  {
   "cell_type": "markdown",
   "id": "b565babb",
   "metadata": {},
   "source": [
    "### Monotonic Array\n",
    "\n",
    "nonDecresing or nonincresing \n",
    "Cool or boolean\n",
    "\n",
    "[-1, 0, 3,4 6, 7, 8]\n",
    "True\n"
   ]
  },
  {
   "cell_type": "code",
   "execution_count": 9,
   "id": "6ba699cd",
   "metadata": {},
   "outputs": [],
   "source": [
    "def isMonotonic(array):\n",
    "    nonDecresing = True\n",
    "    nonincresing = True\n",
    "    \n",
    "    #compare each num to the prev num\n",
    "    for i in range(1, len(array)):\n",
    "        #incresing\n",
    "        if array[i] > array[i-1]:\n",
    "            nonDecresing = False\n",
    "        #decresing\n",
    "        if array[i] < array[i-1]:\n",
    "            nonincresing = False\n",
    "    #whether or not one of these is True\n",
    "    return nonDecresing or nonincresing"
   ]
  },
  {
   "cell_type": "code",
   "execution_count": 10,
   "id": "e7f3c857",
   "metadata": {},
   "outputs": [
    {
     "name": "stdout",
     "output_type": "stream",
     "text": [
      "[4, 1, 3, 2, 2, 2, 2, 2, 2]\n",
      "False\n",
      "True\n"
     ]
    }
   ],
   "source": [
    "print(a)\n",
    "print(isMonotonic(a))\n",
    "print(isMonotonic([-1, 0, 3, 4, 6, 7, 8] ))"
   ]
  },
  {
   "cell_type": "markdown",
   "id": "b8e89e89",
   "metadata": {},
   "source": [
    "## Spiral traverse\n"
   ]
  },
  {
   "cell_type": "code",
   "execution_count": 11,
   "id": "b71c4571",
   "metadata": {},
   "outputs": [],
   "source": [
    "def spiralTraverse(array):\n",
    "    spiral = []\n",
    "    start_row, end_row = 0, len(array)-1\n",
    "    start_col, end_col = 0, len(array[0])-1\n",
    "\n",
    "    while start_row <= end_row and start_col <= end_col:\n",
    "        #first top line\n",
    "        for col in range(start_col, end_col+1): #end_col inclusive\n",
    "            spiral.append(array[start_row][col])\n",
    "        #right most line going down\n",
    "        for row in range(start_row +1, end_row + 1):\n",
    "            spiral.append(array[row][end_col])\n",
    "        #bottom line going left\n",
    "        for col in reversed(range(start_col, end_col)):\n",
    "            #when single row case\n",
    "            if start_row == end_row:\n",
    "                break\n",
    "            spiral.append(array[end_row][col])\n",
    "        #left most line going up\n",
    "        for row in reversed(range(start_row + 1, end_row)):\n",
    "            #when single col case\n",
    "            if start_col == end_col:\n",
    "                break\n",
    "            spiral.append(array[row][start_col])\n",
    "        #inner square\n",
    "        start_row += 1\n",
    "        start_col += 1\n",
    "        end_row -= 1\n",
    "        end_col -= 1\n",
    "    return spiral\n"
   ]
  },
  {
   "cell_type": "code",
   "execution_count": 12,
   "id": "4b991971",
   "metadata": {},
   "outputs": [],
   "source": [
    "array = [[1,2,3],\n",
    "         [8,9,4],\n",
    "         [7,6,5]]"
   ]
  },
  {
   "cell_type": "code",
   "execution_count": 13,
   "id": "bb9d1a4d",
   "metadata": {},
   "outputs": [
    {
     "data": {
      "text/plain": [
       "[1, 2, 3, 4, 5, 6, 7, 8, 9]"
      ]
     },
     "execution_count": 13,
     "metadata": {},
     "output_type": "execute_result"
    }
   ],
   "source": [
    "x = spiralTraverse(array)\n",
    "x"
   ]
  },
  {
   "cell_type": "code",
   "execution_count": 14,
   "id": "0628a964",
   "metadata": {},
   "outputs": [
    {
     "data": {
      "text/plain": [
       "5"
      ]
     },
     "execution_count": 14,
     "metadata": {},
     "output_type": "execute_result"
    }
   ],
   "source": [
    "a = [1, 2, 3, 4, 5, 6, 7, 8]\n",
    "len(a[3:])"
   ]
  },
  {
   "cell_type": "code",
   "execution_count": null,
   "id": "27f9d550",
   "metadata": {},
   "outputs": [],
   "source": []
  },
  {
   "cell_type": "markdown",
   "id": "a27c048f",
   "metadata": {},
   "source": [
    "## Array of products \n",
    "\n",
    "Return the multiplication of all elements \n",
    "\n",
    "Array = [5, 4, 1, 2]\n",
    "Result = [8, 10, 40, 20] \n"
   ]
  },
  {
   "cell_type": "code",
   "execution_count": 15,
   "id": "c9451e3d",
   "metadata": {},
   "outputs": [],
   "source": [
    "import math\n",
    "\n",
    "# [5,1,4,2]\n",
    "def arrayOfProducts(array):\n",
    "    result = []\n",
    "\n",
    "    for i in range(len(array)):\n",
    "        temp = array[i]\n",
    "        array[i]=1\n",
    "        result.append(math.prod(array))\n",
    "        array[i] = temp\n",
    "    return result"
   ]
  },
  {
   "cell_type": "code",
   "execution_count": 16,
   "id": "229a10d8",
   "metadata": {},
   "outputs": [],
   "source": [
    "b = [5,1,4,2] # [8,40,10,20]"
   ]
  },
  {
   "cell_type": "code",
   "execution_count": 17,
   "id": "a784a2ce",
   "metadata": {},
   "outputs": [
    {
     "data": {
      "text/plain": [
       "[8, 40, 10, 20]"
      ]
     },
     "execution_count": 17,
     "metadata": {},
     "output_type": "execute_result"
    }
   ],
   "source": [
    "arrayOfProducts(b)"
   ]
  },
  {
   "cell_type": "code",
   "execution_count": 18,
   "id": "ab6ced03",
   "metadata": {},
   "outputs": [
    {
     "data": {
      "text/plain": [
       "40"
      ]
     },
     "execution_count": 18,
     "metadata": {},
     "output_type": "execute_result"
    }
   ],
   "source": [
    "math.prod(b)"
   ]
  },
  {
   "cell_type": "code",
   "execution_count": null,
   "id": "59eb9667",
   "metadata": {},
   "outputs": [],
   "source": []
  },
  {
   "cell_type": "code",
   "execution_count": 19,
   "id": "d2285bfd",
   "metadata": {},
   "outputs": [],
   "source": [
    "a = [2,5,3,4]"
   ]
  },
  {
   "cell_type": "code",
   "execution_count": 20,
   "id": "28156852",
   "metadata": {},
   "outputs": [],
   "source": [
    "def firstDuplicateValue(array):\n",
    "\n",
    "    seen = []\n",
    "    for i in array:\n",
    "        if i in seen:\n",
    "            return i \n",
    "        seen.append(i)\n",
    "#     return \n"
   ]
  },
  {
   "cell_type": "code",
   "execution_count": 21,
   "id": "66461ce9",
   "metadata": {},
   "outputs": [],
   "source": [
    "firstDuplicateValue(a)"
   ]
  },
  {
   "cell_type": "code",
   "execution_count": null,
   "id": "a1012fc7",
   "metadata": {},
   "outputs": [],
   "source": []
  },
  {
   "cell_type": "code",
   "execution_count": 22,
   "id": "e5cb81a8",
   "metadata": {},
   "outputs": [
    {
     "data": {
      "text/plain": [
       "14"
      ]
     },
     "execution_count": 22,
     "metadata": {},
     "output_type": "execute_result"
    }
   ],
   "source": [
    "2*sum(set(a))-sum(a)"
   ]
  },
  {
   "cell_type": "code",
   "execution_count": 23,
   "id": "61e00151",
   "metadata": {},
   "outputs": [],
   "source": [
    "a = np.arange(9)"
   ]
  },
  {
   "cell_type": "code",
   "execution_count": 24,
   "id": "c5d2fa9e",
   "metadata": {},
   "outputs": [],
   "source": [
    "a = a.reshape(3,3)\n"
   ]
  },
  {
   "cell_type": "code",
   "execution_count": 25,
   "id": "99fd4024",
   "metadata": {},
   "outputs": [
    {
     "data": {
      "text/plain": [
       "array([[0, 1, 2],\n",
       "       [3, 4, 5],\n",
       "       [6, 7, 8]])"
      ]
     },
     "execution_count": 25,
     "metadata": {},
     "output_type": "execute_result"
    }
   ],
   "source": [
    "a"
   ]
  },
  {
   "cell_type": "code",
   "execution_count": 26,
   "id": "c682640f",
   "metadata": {},
   "outputs": [],
   "source": [
    "def spiralTraverse(array):\n",
    "    a = np.array(array)\n",
    "    a = a.flatten()\n",
    "    print(a)"
   ]
  },
  {
   "cell_type": "code",
   "execution_count": 27,
   "id": "1ec642b6",
   "metadata": {},
   "outputs": [
    {
     "name": "stdout",
     "output_type": "stream",
     "text": [
      "[1 2 3 8 9 4 7 6 5]\n"
     ]
    }
   ],
   "source": [
    "spiralTraverse(array)"
   ]
  },
  {
   "cell_type": "code",
   "execution_count": 28,
   "id": "6a253b14",
   "metadata": {},
   "outputs": [
    {
     "name": "stdout",
     "output_type": "stream",
     "text": [
      "[0 1 2 3 4 5 6 7 8]\n"
     ]
    }
   ],
   "source": [
    "print(a.flatten())"
   ]
  },
  {
   "cell_type": "code",
   "execution_count": 29,
   "id": "e604e566",
   "metadata": {},
   "outputs": [],
   "source": [
    "\n",
    "a = np.array(a)"
   ]
  },
  {
   "cell_type": "code",
   "execution_count": 30,
   "id": "f98bef75",
   "metadata": {},
   "outputs": [
    {
     "data": {
      "text/plain": [
       "array([[0, 1, 2],\n",
       "       [3, 4, 5],\n",
       "       [6, 7, 8]])"
      ]
     },
     "execution_count": 30,
     "metadata": {},
     "output_type": "execute_result"
    }
   ],
   "source": [
    "a"
   ]
  },
  {
   "cell_type": "code",
   "execution_count": null,
   "id": "b168d957",
   "metadata": {},
   "outputs": [],
   "source": []
  },
  {
   "cell_type": "code",
   "execution_count": null,
   "id": "c6312ec9",
   "metadata": {},
   "outputs": [],
   "source": []
  },
  {
   "cell_type": "code",
   "execution_count": null,
   "id": "6d491e39",
   "metadata": {},
   "outputs": [],
   "source": []
  },
  {
   "cell_type": "markdown",
   "id": "194d1e43",
   "metadata": {},
   "source": [
    "### Longest Peak"
   ]
  },
  {
   "cell_type": "code",
   "execution_count": 31,
   "id": "00ddc66b",
   "metadata": {},
   "outputs": [],
   "source": [
    "def longestPeak(array):\n",
    "    #find the first peak\n",
    "    #extend its tails and save its length\n",
    "    #find the next peak, expand its tails and compare with current len\n",
    "    #return the longest\n",
    "    longest = 0\n",
    "    i = 1 #bc need to compare to prev\n",
    "    while i < len(array)-1:\n",
    "        # peak when both adjacent are smaller\n",
    "        peak = array[i -1] < array[i] and array[i] > array[i+1]\n",
    "        if not peak:\n",
    "            i += 1\n",
    "            continue\n",
    "        #left tail of the peaks/ stop when reaches the 0th index\n",
    "        left_i = i - 2\n",
    "        while left_i >= 0 and array[left_i] < array[left_i + 1]:\n",
    "            left_i -= 1\n",
    "        #rigth tail / stop when reach the last index\n",
    "        right_i = i + 2\n",
    "        while right_i < len(array) and array[right_i] < array[right_i - 1]:\n",
    "            right_i += 1\n",
    "\n",
    "        current_peak = right_i - left_i - 1\n",
    "        longest = max(longest, current_peak)\n",
    "        i = right_i # look for next peak staring from right i\n",
    "    return longest\n"
   ]
  },
  {
   "cell_type": "code",
   "execution_count": 32,
   "id": "9645f6be",
   "metadata": {},
   "outputs": [
    {
     "name": "stdout",
     "output_type": "stream",
     "text": [
      "7\n",
      "3\n"
     ]
    }
   ],
   "source": [
    "print(longestPeak([1,4,2,4,6,8,5,3,0]))# idx2 to idx8\n",
    "print(longestPeak([1,4,0]))# idx2 to idx8"
   ]
  },
  {
   "cell_type": "markdown",
   "id": "a08779c4",
   "metadata": {},
   "source": [
    "### FIrst Duplicate Value"
   ]
  },
  {
   "cell_type": "code",
   "execution_count": 33,
   "id": "a1faffdd",
   "metadata": {},
   "outputs": [],
   "source": [
    "def firstDuplicateValue(array):\n",
    "    for value in array:\n",
    "        abs_value = abs(value)\n",
    "        if array[abs_value -1] < 0: # if negative -> duplicate found\n",
    "            return abs(value)\n",
    "        #if not negative set the value to negative\n",
    "        array[abs_value - 1] *= -1\n",
    "    return -1\n",
    "# O(n)time worse case it iterates through entire array\n",
    "#O(1)space using original array no extra memory "
   ]
  },
  {
   "cell_type": "code",
   "execution_count": 34,
   "id": "eca53042",
   "metadata": {},
   "outputs": [
    {
     "name": "stdout",
     "output_type": "stream",
     "text": [
      "4\n",
      "-1\n",
      "1\n"
     ]
    }
   ],
   "source": [
    "print(firstDuplicateValue([1,4,2,4,6,8,5,3,0]))\n",
    "print(firstDuplicateValue([1,4,2,0]))\n",
    "print(firstDuplicateValue([1,0,1,0]))"
   ]
  },
  {
   "cell_type": "code",
   "execution_count": null,
   "id": "017c46fe",
   "metadata": {},
   "outputs": [],
   "source": []
  },
  {
   "cell_type": "markdown",
   "id": "a2263c19",
   "metadata": {},
   "source": [
    "### Overlapping Intervals"
   ]
  },
  {
   "cell_type": "code",
   "execution_count": 35,
   "id": "277ba158",
   "metadata": {},
   "outputs": [],
   "source": [
    "def mergeOverlappingIntervals(intervals):\n",
    "    #start by sorting the starting time\n",
    "    sortedStartingTime = sorted(intervals, key = lambda x: x[0])\n",
    "\n",
    "    mergedIntervals = []\n",
    "    current = sortedStartingTime[0]\n",
    "    #append the first interval to compare to\n",
    "    mergedIntervals.append(current)\n",
    "\n",
    "    for nextInterval in sortedStartingTime:\n",
    "        #only care about the end time\n",
    "        _, currentEnd = current\n",
    "        nextStarting, nextEnd = nextInterval\n",
    "        #if overlap, take the max\n",
    "        if currentEnd >= nextStarting:\n",
    "            current[1]= max(currentEnd, nextEnd)\n",
    "        else:\n",
    "            current = nextInterval\n",
    "            #if not then just add it to list\n",
    "            mergedIntervals.append(current)\n",
    "    return mergedIntervals"
   ]
  },
  {
   "cell_type": "code",
   "execution_count": 36,
   "id": "5cd170d1",
   "metadata": {},
   "outputs": [
    {
     "name": "stdout",
     "output_type": "stream",
     "text": [
      "[[1, 4], [5, 8]]\n",
      "[[0, 0]]\n"
     ]
    }
   ],
   "source": [
    "print(mergeOverlappingIntervals([[1,2],[2,3],[1,4],[5,8]]))\n",
    "print(mergeOverlappingIntervals([[0,0],[0,0]]))"
   ]
  },
  {
   "cell_type": "code",
   "execution_count": null,
   "id": "6d1b1754",
   "metadata": {},
   "outputs": [],
   "source": []
  }
 ],
 "metadata": {
  "kernelspec": {
   "display_name": "Python 3 (ipykernel)",
   "language": "python",
   "name": "python3"
  },
  "language_info": {
   "codemirror_mode": {
    "name": "ipython",
    "version": 3
   },
   "file_extension": ".py",
   "mimetype": "text/x-python",
   "name": "python",
   "nbconvert_exporter": "python",
   "pygments_lexer": "ipython3",
   "version": "3.9.7"
  }
 },
 "nbformat": 4,
 "nbformat_minor": 5
}
