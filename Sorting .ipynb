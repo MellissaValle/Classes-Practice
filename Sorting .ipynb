{
 "cells": [
  {
   "cell_type": "markdown",
   "id": "8554e339",
   "metadata": {},
   "source": [
    "### Bubble sort"
   ]
  },
  {
   "cell_type": "code",
   "execution_count": 1,
   "id": "b63e0d28",
   "metadata": {},
   "outputs": [],
   "source": [
    "def bubble_sort(a):\n",
    "    for x in range(len(a)-1,0,-1):\n",
    "        for j in range(x):\n",
    "            if a[j]>a[j+1]:\n",
    "                #swapping\n",
    "                a[j],a[j+1] = a[j+1],a[j]"
   ]
  },
  {
   "cell_type": "code",
   "execution_count": 2,
   "id": "37c13157",
   "metadata": {},
   "outputs": [
    {
     "name": "stdout",
     "output_type": "stream",
     "text": [
      "[1, 1, 2, 2, 4, 4, 8, 10, 10, 10, 40, 40]\n"
     ]
    }
   ],
   "source": [
    "if __name__ == '__main__':\n",
    " \n",
    "    m = [4, 2, 40, 10, 10, 1, 4, 2, 1, 10, 40,8]\n",
    " \n",
    "    bubble_sort(m)\n",
    "    print(m)\n",
    " "
   ]
  },
  {
   "cell_type": "code",
   "execution_count": null,
   "id": "bd3d2de2",
   "metadata": {},
   "outputs": [],
   "source": []
  },
  {
   "cell_type": "markdown",
   "id": "2848deef",
   "metadata": {},
   "source": [
    "### Counting sort"
   ]
  },
  {
   "cell_type": "code",
   "execution_count": 3,
   "id": "dd86a078",
   "metadata": {},
   "outputs": [
    {
     "name": "stdout",
     "output_type": "stream",
     "text": [
      "[1, 1, 2, 2, 4, 4, 10, 10, 10, 40, 40]\n"
     ]
    }
   ],
   "source": [
    "RANGE = 100\n",
    " # using the counting sort algorithm\n",
    "def customSort(A):\n",
    " \n",
    "    # create a new list to store counts of elements in the input list\n",
    "    freq = [0] * RANGE\n",
    " \n",
    "    # using the value of elements in the input list as an index,\n",
    "    # update their frequencies in the new list\n",
    "    for i in A:\n",
    "        freq[i] = freq[i] + 1\n",
    " \n",
    "    # overwrite the input list with sorted order\n",
    "    k = 0\n",
    "    for i in range(RANGE):\n",
    "        while freq[i] > 0:\n",
    "            A[k] = i\n",
    "            freq[i] = freq[i] - 1\n",
    "            k = k + 1\n",
    " \n",
    " \n",
    "if __name__ == '__main__':\n",
    " \n",
    "    A = [4, 2, 40, 10, 10, 1, 4, 2, 1, 10, 40]\n",
    " \n",
    "    customSort(A)\n",
    "    print(A)\n",
    " \n"
   ]
  },
  {
   "cell_type": "markdown",
   "id": "7634bb0d",
   "metadata": {},
   "source": [
    "### selection sort"
   ]
  },
  {
   "cell_type": "code",
   "execution_count": 4,
   "id": "2b0d7ade",
   "metadata": {},
   "outputs": [],
   "source": [
    "def selection_sort(a):\n",
    "    for i in range(len(a)-1):\n",
    "        minIndex = i\n",
    "        for j in range(i+1,len(a)):\n",
    "            if a[j] < a[minIndex]:\n",
    "                minIndex = j\n",
    "        if i!=minIndex:\n",
    "            #swapping\n",
    "            a[i],a[minIndex] = a[minIndex],a[i]\n",
    "    "
   ]
  },
  {
   "cell_type": "code",
   "execution_count": 5,
   "id": "849f29a6",
   "metadata": {},
   "outputs": [
    {
     "name": "stdout",
     "output_type": "stream",
     "text": [
      "[1, 1, 2, 2, 4, 4, 10, 10, 10, 40, 40]\n"
     ]
    }
   ],
   "source": [
    "if __name__ == '__main__':\n",
    "    A = [4, 2, 40, 10, 10, 1, 4, 2, 1, 10, 40]\n",
    "    \n",
    "    selection_sort(A)\n",
    "    print(A)"
   ]
  },
  {
   "cell_type": "code",
   "execution_count": null,
   "id": "4bd4fed4",
   "metadata": {},
   "outputs": [],
   "source": []
  },
  {
   "cell_type": "markdown",
   "id": "bf3ec390",
   "metadata": {},
   "source": [
    "### insertion sort"
   ]
  },
  {
   "cell_type": "code",
   "execution_count": 6,
   "id": "fbff6e37",
   "metadata": {},
   "outputs": [],
   "source": [
    "def insertion_sort(a):\n",
    "    for i in range(1,len(a)):\n",
    "        temp = a[i]\n",
    "        j = i - 1\n",
    "        while j>= 0 and a[j]>temp:\n",
    "            a[j+1] = a[j]\n",
    "            j = j-1\n",
    "        a[j+1] = temp"
   ]
  },
  {
   "cell_type": "code",
   "execution_count": 7,
   "id": "010df67d",
   "metadata": {},
   "outputs": [
    {
     "name": "stdout",
     "output_type": "stream",
     "text": [
      "[1, 1, 2, 2, 4, 4, 10, 10, 10, 40, 40]\n"
     ]
    }
   ],
   "source": [
    "if __name__ == '__main__':\n",
    "    A = [4, 2, 40, 10, 10, 1, 4, 2, 1, 10, 40]\n",
    "    \n",
    "    insertion_sort(A)\n",
    "    print(A)\n",
    "    "
   ]
  },
  {
   "cell_type": "code",
   "execution_count": null,
   "id": "09a33304",
   "metadata": {},
   "outputs": [],
   "source": []
  },
  {
   "cell_type": "code",
   "execution_count": null,
   "id": "e970ae37",
   "metadata": {},
   "outputs": [],
   "source": []
  },
  {
   "cell_type": "markdown",
   "id": "9b7709e1",
   "metadata": {},
   "source": [
    "#### Duplicates"
   ]
  },
  {
   "cell_type": "code",
   "execution_count": 8,
   "id": "354bb557",
   "metadata": {},
   "outputs": [
    {
     "name": "stdout",
     "output_type": "stream",
     "text": [
      "no duplicates: [4, 2, 40, 10, 1, 8]\n",
      "duplicates: [10, 4, 2, 1, 10, 40]\n"
     ]
    }
   ],
   "source": [
    "a = [4, 2, 40, 10, 10, 1, 4, 2, 1, 10, 40,8]\n",
    "\n",
    "no_dupes = [x for n, x in enumerate(a) if x not in a[:n]]\n",
    "print (\"no duplicates:\", no_dupes) \n",
    "\n",
    "dupes = [x for n, x in enumerate(a) if x in a[:n]]\n",
    "print (\"duplicates:\",dupes) "
   ]
  },
  {
   "cell_type": "code",
   "execution_count": null,
   "id": "1312b5c2",
   "metadata": {},
   "outputs": [],
   "source": []
  },
  {
   "cell_type": "markdown",
   "id": "4a3a5b22",
   "metadata": {},
   "source": [
    "### Another return duplicates"
   ]
  },
  {
   "cell_type": "code",
   "execution_count": 9,
   "id": "c26b5bc3",
   "metadata": {},
   "outputs": [],
   "source": [
    "def duplicates(a):\n",
    "    seen = set()\n",
    "    seen_add = seen.add\n",
    "    seen_twice = set( x for x in a if x in seen or seen_add(x) )\n",
    "    return list( seen_twice )\n"
   ]
  },
  {
   "cell_type": "code",
   "execution_count": 10,
   "id": "66644df8",
   "metadata": {},
   "outputs": [
    {
     "name": "stdout",
     "output_type": "stream",
     "text": [
      "[1, 2, 4, 6, 40, 10]\n"
     ]
    }
   ],
   "source": [
    "if __name__ == '__main__':\n",
    " \n",
    "    A = [4, 2, 40, 10, 10, 1, 4, 2, 1, 10, 40,6,6]\n",
    " \n",
    "    print(duplicates(A))"
   ]
  },
  {
   "cell_type": "code",
   "execution_count": null,
   "id": "9e4a30ca",
   "metadata": {},
   "outputs": [],
   "source": []
  },
  {
   "cell_type": "code",
   "execution_count": null,
   "id": "a3106d4e",
   "metadata": {},
   "outputs": [],
   "source": []
  },
  {
   "cell_type": "markdown",
   "id": "ef69fc6a",
   "metadata": {},
   "source": [
    "#### Duppicates using iteration_utilities"
   ]
  },
  {
   "cell_type": "code",
   "execution_count": 11,
   "id": "9c77e4ec",
   "metadata": {},
   "outputs": [],
   "source": [
    "#!pip install iteration-utilities"
   ]
  },
  {
   "cell_type": "code",
   "execution_count": 12,
   "id": "4d75d6c5",
   "metadata": {},
   "outputs": [
    {
     "name": "stdout",
     "output_type": "stream",
     "text": [
      "[4, 2, 40, 10, 10, 1, 4, 2, 1, 10, 40, 6, 6]\n",
      "[4, 2, 40, 10, 1, 6]\n"
     ]
    }
   ],
   "source": [
    "from iteration_utilities import unique_everseen\n",
    "\n",
    "print(A)\n",
    "print(list(unique_everseen(A)))"
   ]
  },
  {
   "cell_type": "code",
   "execution_count": 13,
   "id": "b44b0285",
   "metadata": {},
   "outputs": [
    {
     "name": "stdout",
     "output_type": "stream",
     "text": [
      "[4, 2, 40, 10, 10, 1, 4, 2, 1, 10, 40, 6, 6]\n",
      "[10, 4, 2, 1, 10, 40, 6]\n"
     ]
    }
   ],
   "source": [
    "from iteration_utilities import duplicates\n",
    "\n",
    "print(A)\n",
    "print(list(duplicates(A)))"
   ]
  },
  {
   "cell_type": "code",
   "execution_count": null,
   "id": "9fbb8af1",
   "metadata": {},
   "outputs": [],
   "source": []
  },
  {
   "cell_type": "code",
   "execution_count": null,
   "id": "cf4e16f1",
   "metadata": {},
   "outputs": [],
   "source": []
  },
  {
   "cell_type": "markdown",
   "id": "3f1e5a81",
   "metadata": {},
   "source": [
    "### duplicate using enumerate"
   ]
  },
  {
   "cell_type": "code",
   "execution_count": 14,
   "id": "f79897e3",
   "metadata": {},
   "outputs": [
    {
     "name": "stdout",
     "output_type": "stream",
     "text": [
      "[1, 5, 1]\n"
     ]
    }
   ],
   "source": [
    "if __name__ == '__main__':\n",
    " \n",
    "    nums = [1, 5, 2, 1, 4, 5, 1]\n",
    " \n",
    "    dup = [x for i, x in enumerate(nums) if i != nums.index(x)]\n",
    "    print(dup) "
   ]
  },
  {
   "cell_type": "code",
   "execution_count": null,
   "id": "a5454bac",
   "metadata": {},
   "outputs": [],
   "source": []
  },
  {
   "cell_type": "code",
   "execution_count": null,
   "id": "6416ce84",
   "metadata": {},
   "outputs": [],
   "source": []
  },
  {
   "cell_type": "code",
   "execution_count": null,
   "id": "f7be3090",
   "metadata": {},
   "outputs": [],
   "source": []
  },
  {
   "cell_type": "code",
   "execution_count": null,
   "id": "43e16551",
   "metadata": {},
   "outputs": [],
   "source": []
  }
 ],
 "metadata": {
  "kernelspec": {
   "display_name": "Python 3 (ipykernel)",
   "language": "python",
   "name": "python3"
  },
  "language_info": {
   "codemirror_mode": {
    "name": "ipython",
    "version": 3
   },
   "file_extension": ".py",
   "mimetype": "text/x-python",
   "name": "python",
   "nbconvert_exporter": "python",
   "pygments_lexer": "ipython3",
   "version": "3.9.7"
  }
 },
 "nbformat": 4,
 "nbformat_minor": 5
}
