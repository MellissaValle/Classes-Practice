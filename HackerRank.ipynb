{
 "cells": [
  {
   "cell_type": "code",
   "execution_count": 1,
   "id": "61ae75d6",
   "metadata": {},
   "outputs": [],
   "source": [
    "import math\n",
    "import os\n",
    "import random\n",
    "import re\n",
    "import sys"
   ]
  },
  {
   "cell_type": "code",
   "execution_count": 2,
   "id": "c1943d30",
   "metadata": {},
   "outputs": [],
   "source": [
    "#\n",
    "# Complete the 'plusMinus' function below.\n",
    "#\n",
    "# The function accepts INTEGER_ARRAY arr as parameter.\n",
    "#\n",
    "\n",
    "def plusMinus(arr):\n",
    "    # Write your code here\n",
    "    count_positive = count_negative = count_zero = 0 \n",
    "    len_arr = len(arr)\n",
    "    \n",
    "    for i in range(len_arr):\n",
    "        if arr[i] == 0:\n",
    "            count_zero +=1\n",
    "        elif arr[i] > 0:\n",
    "            count_positive +=1\n",
    "        else:\n",
    "            count_negative +=1\n",
    "    \n",
    "    print(float(count_positive/ len_arr))\n",
    "    print(float(count_negative/ len_arr))\n",
    "    print(float(count_zero/ len_arr))\n"
   ]
  },
  {
   "cell_type": "code",
   "execution_count": 3,
   "id": "c24e7696",
   "metadata": {},
   "outputs": [
    {
     "name": "stdout",
     "output_type": "stream",
     "text": [
      "0.5\n",
      "0.16666666666666666\n",
      "0.3333333333333333\n"
     ]
    }
   ],
   "source": [
    "n=[1,-2,3,0,0,8]\n",
    "plusMinus(n)"
   ]
  },
  {
   "cell_type": "code",
   "execution_count": null,
   "id": "e29e355b",
   "metadata": {},
   "outputs": [],
   "source": []
  },
  {
   "cell_type": "code",
   "execution_count": 4,
   "id": "3fe6f0ba",
   "metadata": {},
   "outputs": [],
   "source": [
    "def miniMaxSum(arr):\n",
    "    # Write your code here\n",
    "    max_num = []\n",
    "    min_num = []\n",
    "    arr.sort()\n",
    "    for i in range(0, 4):\n",
    "        min_num.append(arr[i])\n",
    "        \n",
    "    for i in range(1, len(arr)):\n",
    "        max_num.append(arr[i])\n",
    "        \n",
    "    print(sum(min_num), sum(max_num))"
   ]
  },
  {
   "cell_type": "code",
   "execution_count": 5,
   "id": "d552b345",
   "metadata": {},
   "outputs": [
    {
     "name": "stdout",
     "output_type": "stream",
     "text": [
      "299 90042\n"
     ]
    }
   ],
   "source": [
    "miniMaxSum([7, 69, 2, 221, 89745])"
   ]
  },
  {
   "cell_type": "code",
   "execution_count": 6,
   "id": "6cd79a3d",
   "metadata": {},
   "outputs": [
    {
     "name": "stdout",
     "output_type": "stream",
     "text": [
      "[1, 2, 5, 5, 8, 9]\n"
     ]
    }
   ],
   "source": [
    "arr=[1,5,2,5,8,9]\n",
    "arr.sort()\n",
    "print(arr)"
   ]
  },
  {
   "cell_type": "code",
   "execution_count": null,
   "id": "a8d3cc4c",
   "metadata": {},
   "outputs": [],
   "source": []
  },
  {
   "cell_type": "code",
   "execution_count": 7,
   "id": "f95feead",
   "metadata": {},
   "outputs": [],
   "source": [
    "#\n",
    "# Complete the 'timeConversion' function below.\n",
    "#\n",
    "# The function is expected to return a STRING.\n",
    "# The function accepts STRING s as parameter.\n",
    "#\n",
    "\n",
    "def timeConversion(s):\n",
    "    if s[-2] == \"A\" and s[:2] == \"12\":\n",
    "        return \"00\" + s[2:-2]\n",
    "          \n",
    "    # check and remove the AM    \n",
    "    elif s[-2] == \"A\":\n",
    "        return s[:-2]\n",
    "      \n",
    "    # Check and remove PM and if first its 12   \n",
    "    elif s[-2] == \"P\" and s[:2] == \"12\":\n",
    "        return s[:-2]\n",
    "          \n",
    "    else:\n",
    "          \n",
    "        # add 12 to hours and remove PM\n",
    "        return str(int(s[:2]) + 12) + s[2:8]"
   ]
  },
  {
   "cell_type": "code",
   "execution_count": 8,
   "id": "706ac673",
   "metadata": {},
   "outputs": [
    {
     "data": {
      "text/plain": [
       "'19:05:45'"
      ]
     },
     "execution_count": 8,
     "metadata": {},
     "output_type": "execute_result"
    }
   ],
   "source": [
    "a=  \"07:05:45PM\"\n",
    "timeConversion(a)"
   ]
  },
  {
   "cell_type": "code",
   "execution_count": null,
   "id": "446c51f9",
   "metadata": {},
   "outputs": [],
   "source": []
  },
  {
   "cell_type": "code",
   "execution_count": 9,
   "id": "499c04b1",
   "metadata": {},
   "outputs": [
    {
     "data": {
      "text/plain": [
       "['12', '34', '34PM']"
      ]
     },
     "execution_count": 9,
     "metadata": {},
     "output_type": "execute_result"
    }
   ],
   "source": [
    "s = \"12:34:34PM\"\n",
    "s = s.split(\":\")\n",
    "s"
   ]
  },
  {
   "cell_type": "code",
   "execution_count": 10,
   "id": "699a6439",
   "metadata": {},
   "outputs": [
    {
     "data": {
      "text/plain": [
       "'23:23:23'"
      ]
     },
     "execution_count": 10,
     "metadata": {},
     "output_type": "execute_result"
    }
   ],
   "source": [
    "s = \"23:23:23PM\"\n",
    "s[ 0: 8: 1]"
   ]
  },
  {
   "cell_type": "markdown",
   "id": "2fa28f6a",
   "metadata": {},
   "source": [
    "Given an array of integers, where all elements but one occur twice, find the unique element."
   ]
  },
  {
   "cell_type": "code",
   "execution_count": null,
   "id": "5e056161",
   "metadata": {},
   "outputs": [],
   "source": []
  },
  {
   "cell_type": "code",
   "execution_count": 11,
   "id": "882e6268",
   "metadata": {},
   "outputs": [],
   "source": [
    "def lonelyinteger(a):\n",
    "    # using XOR\n",
    "    result = 0\n",
    "    for i in a:\n",
    "        result ^= i\n",
    "    return result"
   ]
  },
  {
   "cell_type": "code",
   "execution_count": 12,
   "id": "0093b8b6",
   "metadata": {},
   "outputs": [
    {
     "data": {
      "text/plain": [
       "4"
      ]
     },
     "execution_count": 12,
     "metadata": {},
     "output_type": "execute_result"
    }
   ],
   "source": [
    "e = [1,2,3,4,3,2,1]\n",
    "lonelyinteger(e)"
   ]
  },
  {
   "cell_type": "code",
   "execution_count": 13,
   "id": "202e6101",
   "metadata": {},
   "outputs": [],
   "source": [
    "def lonelyinteger2(a):\n",
    "    # Write your code here\n",
    "    return 2*sum(set(a))-sum(a)"
   ]
  },
  {
   "cell_type": "code",
   "execution_count": 14,
   "id": "3f5d2560",
   "metadata": {},
   "outputs": [
    {
     "data": {
      "text/plain": [
       "4"
      ]
     },
     "execution_count": 14,
     "metadata": {},
     "output_type": "execute_result"
    }
   ],
   "source": [
    "lonelyinteger2(e)"
   ]
  },
  {
   "cell_type": "code",
   "execution_count": null,
   "id": "d5906820",
   "metadata": {},
   "outputs": [],
   "source": []
  }
 ],
 "metadata": {
  "kernelspec": {
   "display_name": "Python 3 (ipykernel)",
   "language": "python",
   "name": "python3"
  },
  "language_info": {
   "codemirror_mode": {
    "name": "ipython",
    "version": 3
   },
   "file_extension": ".py",
   "mimetype": "text/x-python",
   "name": "python",
   "nbconvert_exporter": "python",
   "pygments_lexer": "ipython3",
   "version": "3.9.7"
  }
 },
 "nbformat": 4,
 "nbformat_minor": 5
}
